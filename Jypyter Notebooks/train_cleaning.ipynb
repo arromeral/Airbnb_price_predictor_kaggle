{
 "cells": [
  {
   "cell_type": "markdown",
   "id": "a1d54345",
   "metadata": {},
   "source": [
    "# En este Jupyter Notebook se realiza la EDA y limpieza del conjunto de datos train para el posterior trabajo de prospeccion de modelos de Machine Learning"
   ]
  },
  {
   "cell_type": "code",
   "execution_count": 1,
   "id": "f7268f21",
   "metadata": {},
   "outputs": [],
   "source": [
    "import pandas as pd\n",
    "import numpy as np\n",
    "from sklearn.metrics.pairwise import euclidean_distances\n",
    "from scipy.spatial.distance import cdist\n",
    "from sklearn.neighbors import NearestNeighbors\n",
    "from sklearn.cluster import KMeans\n",
    "from sklearn.preprocessing import StandardScaler\n",
    "import matplotlib.pyplot as plt\n",
    "from sklearn.preprocessing import StandardScaler, OneHotEncoder , OrdinalEncoder\n",
    "from sklearn.compose import ColumnTransformer\n",
    "from sklearn.pipeline import Pipeline\n",
    "from sklearn.cluster import KMeans\n",
    "import matplotlib.pyplot as plt\n",
    "from sklearn.cluster import DBSCAN\n",
    "import seaborn as sns"
   ]
  },
  {
   "cell_type": "code",
   "execution_count": 3,
   "id": "334fb418",
   "metadata": {},
   "outputs": [],
   "source": [
    "bnb = pd.read_csv(\"../data/train.csv\")\n",
    "\n"
   ]
  },
  {
   "cell_type": "code",
   "execution_count": 4,
   "id": "af602703",
   "metadata": {},
   "outputs": [
    {
     "data": {
      "text/html": [
       "<div>\n",
       "<style scoped>\n",
       "    .dataframe tbody tr th:only-of-type {\n",
       "        vertical-align: middle;\n",
       "    }\n",
       "\n",
       "    .dataframe tbody tr th {\n",
       "        vertical-align: top;\n",
       "    }\n",
       "\n",
       "    .dataframe thead th {\n",
       "        text-align: right;\n",
       "    }\n",
       "</style>\n",
       "<table border=\"1\" class=\"dataframe\">\n",
       "  <thead>\n",
       "    <tr style=\"text-align: right;\">\n",
       "      <th></th>\n",
       "      <th>id</th>\n",
       "      <th>log_price</th>\n",
       "      <th>property_type</th>\n",
       "      <th>room_type</th>\n",
       "      <th>amenities</th>\n",
       "      <th>accommodates</th>\n",
       "      <th>bathrooms</th>\n",
       "      <th>bed_type</th>\n",
       "      <th>cancellation_policy</th>\n",
       "      <th>cleaning_fee</th>\n",
       "      <th>city</th>\n",
       "      <th>description</th>\n",
       "      <th>first_review</th>\n",
       "      <th>host_has_profile_pic</th>\n",
       "      <th>host_identity_verified</th>\n",
       "      <th>host_response_rate</th>\n",
       "      <th>host_since</th>\n",
       "      <th>instant_bookable</th>\n",
       "      <th>last_review</th>\n",
       "      <th>latitude</th>\n",
       "      <th>longitude</th>\n",
       "      <th>name</th>\n",
       "      <th>neighbourhood</th>\n",
       "      <th>number_of_reviews</th>\n",
       "      <th>review_scores_rating</th>\n",
       "      <th>thumbnail_url</th>\n",
       "      <th>zipcode</th>\n",
       "      <th>bedrooms</th>\n",
       "      <th>beds</th>\n",
       "    </tr>\n",
       "  </thead>\n",
       "  <tbody>\n",
       "    <tr>\n",
       "      <th>0</th>\n",
       "      <td>15148661</td>\n",
       "      <td>4.499810</td>\n",
       "      <td>Apartment</td>\n",
       "      <td>Entire home/apt</td>\n",
       "      <td>{TV,Internet,\"Wireless Internet\",\"Air conditio...</td>\n",
       "      <td>2</td>\n",
       "      <td>1.0</td>\n",
       "      <td>Real Bed</td>\n",
       "      <td>flexible</td>\n",
       "      <td>True</td>\n",
       "      <td>NYC</td>\n",
       "      <td>A great spacious apartment in an awesome and c...</td>\n",
       "      <td>2016-07-25</td>\n",
       "      <td>t</td>\n",
       "      <td>t</td>\n",
       "      <td>80%</td>\n",
       "      <td>2015-11-04</td>\n",
       "      <td>f</td>\n",
       "      <td>2017-09-10</td>\n",
       "      <td>40.757349</td>\n",
       "      <td>-73.921339</td>\n",
       "      <td>Sunny Spacious Apt in Astoria w/ back yard access</td>\n",
       "      <td>Astoria</td>\n",
       "      <td>9</td>\n",
       "      <td>96.0</td>\n",
       "      <td>https://a0.muscache.com/im/pictures/3e40924b-7...</td>\n",
       "      <td>11101</td>\n",
       "      <td>1.0</td>\n",
       "      <td>1.0</td>\n",
       "    </tr>\n",
       "    <tr>\n",
       "      <th>1</th>\n",
       "      <td>1227528</td>\n",
       "      <td>3.970292</td>\n",
       "      <td>Apartment</td>\n",
       "      <td>Private room</td>\n",
       "      <td>{Internet,\"Wireless Internet\",\"Air conditionin...</td>\n",
       "      <td>2</td>\n",
       "      <td>1.0</td>\n",
       "      <td>Futon</td>\n",
       "      <td>strict</td>\n",
       "      <td>True</td>\n",
       "      <td>NYC</td>\n",
       "      <td>Newly Renovated Two Bedroom Apartment in Hamil...</td>\n",
       "      <td>2016-09-01</td>\n",
       "      <td>t</td>\n",
       "      <td>t</td>\n",
       "      <td>NaN</td>\n",
       "      <td>2014-08-26</td>\n",
       "      <td>f</td>\n",
       "      <td>2017-01-05</td>\n",
       "      <td>40.823556</td>\n",
       "      <td>-73.954573</td>\n",
       "      <td>Manhattan Sunny Private Room</td>\n",
       "      <td>Hamilton Heights</td>\n",
       "      <td>8</td>\n",
       "      <td>100.0</td>\n",
       "      <td>https://a0.muscache.com/im/pictures/2953dddd-0...</td>\n",
       "      <td>10031</td>\n",
       "      <td>1.0</td>\n",
       "      <td>1.0</td>\n",
       "    </tr>\n",
       "    <tr>\n",
       "      <th>2</th>\n",
       "      <td>15692740</td>\n",
       "      <td>4.787492</td>\n",
       "      <td>Apartment</td>\n",
       "      <td>Entire home/apt</td>\n",
       "      <td>{\"Wireless Internet\",\"Air conditioning\",\"Wheel...</td>\n",
       "      <td>4</td>\n",
       "      <td>1.0</td>\n",
       "      <td>Real Bed</td>\n",
       "      <td>moderate</td>\n",
       "      <td>True</td>\n",
       "      <td>NYC</td>\n",
       "      <td>One bedroom, one bathroom apartment, with an o...</td>\n",
       "      <td>2016-01-05</td>\n",
       "      <td>t</td>\n",
       "      <td>t</td>\n",
       "      <td>100%</td>\n",
       "      <td>2011-01-29</td>\n",
       "      <td>f</td>\n",
       "      <td>2017-09-27</td>\n",
       "      <td>40.689306</td>\n",
       "      <td>-73.955478</td>\n",
       "      <td>Sweet Apartment on Quiet Block</td>\n",
       "      <td>Bedford-Stuyvesant</td>\n",
       "      <td>12</td>\n",
       "      <td>100.0</td>\n",
       "      <td>NaN</td>\n",
       "      <td>11205</td>\n",
       "      <td>1.0</td>\n",
       "      <td>1.0</td>\n",
       "    </tr>\n",
       "    <tr>\n",
       "      <th>3</th>\n",
       "      <td>19115685</td>\n",
       "      <td>4.700480</td>\n",
       "      <td>Apartment</td>\n",
       "      <td>Entire home/apt</td>\n",
       "      <td>{Internet,\"Wireless Internet\",\"Air conditionin...</td>\n",
       "      <td>3</td>\n",
       "      <td>NaN</td>\n",
       "      <td>Real Bed</td>\n",
       "      <td>moderate</td>\n",
       "      <td>False</td>\n",
       "      <td>NYC</td>\n",
       "      <td>Comfy, art- and book-filled one-bedroom apartm...</td>\n",
       "      <td>2014-01-06</td>\n",
       "      <td>t</td>\n",
       "      <td>f</td>\n",
       "      <td>NaN</td>\n",
       "      <td>2011-10-26</td>\n",
       "      <td>f</td>\n",
       "      <td>2014-01-13</td>\n",
       "      <td>40.681965</td>\n",
       "      <td>-73.965490</td>\n",
       "      <td>Husband &amp; Wife Art-Filled Apartment</td>\n",
       "      <td>Clinton Hill</td>\n",
       "      <td>2</td>\n",
       "      <td>90.0</td>\n",
       "      <td>https://a0.muscache.com/im/pictures/81766960/b...</td>\n",
       "      <td>11238.0</td>\n",
       "      <td>1.0</td>\n",
       "      <td>1.0</td>\n",
       "    </tr>\n",
       "    <tr>\n",
       "      <th>4</th>\n",
       "      <td>2554110</td>\n",
       "      <td>5.192957</td>\n",
       "      <td>Apartment</td>\n",
       "      <td>Entire home/apt</td>\n",
       "      <td>{TV,\"Wireless Internet\",\"Air conditioning\",Kit...</td>\n",
       "      <td>3</td>\n",
       "      <td>1.0</td>\n",
       "      <td>Real Bed</td>\n",
       "      <td>strict</td>\n",
       "      <td>True</td>\n",
       "      <td>NYC</td>\n",
       "      <td>1br/1ba. Spacious living room with plenty of s...</td>\n",
       "      <td>2016-05-20</td>\n",
       "      <td>t</td>\n",
       "      <td>f</td>\n",
       "      <td>NaN</td>\n",
       "      <td>2012-06-21</td>\n",
       "      <td>f</td>\n",
       "      <td>2016-05-20</td>\n",
       "      <td>40.742842</td>\n",
       "      <td>-73.957554</td>\n",
       "      <td>Luxurious 1 Bedroom Apt!</td>\n",
       "      <td>Long Island City</td>\n",
       "      <td>1</td>\n",
       "      <td>80.0</td>\n",
       "      <td>https://a0.muscache.com/im/pictures/0ed6ee9e-6...</td>\n",
       "      <td>11101</td>\n",
       "      <td>1.0</td>\n",
       "      <td>1.0</td>\n",
       "    </tr>\n",
       "  </tbody>\n",
       "</table>\n",
       "</div>"
      ],
      "text/plain": [
       "         id  log_price property_type        room_type  \\\n",
       "0  15148661   4.499810     Apartment  Entire home/apt   \n",
       "1   1227528   3.970292     Apartment     Private room   \n",
       "2  15692740   4.787492     Apartment  Entire home/apt   \n",
       "3  19115685   4.700480     Apartment  Entire home/apt   \n",
       "4   2554110   5.192957     Apartment  Entire home/apt   \n",
       "\n",
       "                                           amenities  accommodates  bathrooms  \\\n",
       "0  {TV,Internet,\"Wireless Internet\",\"Air conditio...             2        1.0   \n",
       "1  {Internet,\"Wireless Internet\",\"Air conditionin...             2        1.0   \n",
       "2  {\"Wireless Internet\",\"Air conditioning\",\"Wheel...             4        1.0   \n",
       "3  {Internet,\"Wireless Internet\",\"Air conditionin...             3        NaN   \n",
       "4  {TV,\"Wireless Internet\",\"Air conditioning\",Kit...             3        1.0   \n",
       "\n",
       "   bed_type cancellation_policy  cleaning_fee city  \\\n",
       "0  Real Bed            flexible          True  NYC   \n",
       "1     Futon              strict          True  NYC   \n",
       "2  Real Bed            moderate          True  NYC   \n",
       "3  Real Bed            moderate         False  NYC   \n",
       "4  Real Bed              strict          True  NYC   \n",
       "\n",
       "                                         description first_review  \\\n",
       "0  A great spacious apartment in an awesome and c...   2016-07-25   \n",
       "1  Newly Renovated Two Bedroom Apartment in Hamil...   2016-09-01   \n",
       "2  One bedroom, one bathroom apartment, with an o...   2016-01-05   \n",
       "3  Comfy, art- and book-filled one-bedroom apartm...   2014-01-06   \n",
       "4  1br/1ba. Spacious living room with plenty of s...   2016-05-20   \n",
       "\n",
       "  host_has_profile_pic host_identity_verified host_response_rate  host_since  \\\n",
       "0                    t                      t                80%  2015-11-04   \n",
       "1                    t                      t                NaN  2014-08-26   \n",
       "2                    t                      t               100%  2011-01-29   \n",
       "3                    t                      f                NaN  2011-10-26   \n",
       "4                    t                      f                NaN  2012-06-21   \n",
       "\n",
       "  instant_bookable last_review   latitude  longitude  \\\n",
       "0                f  2017-09-10  40.757349 -73.921339   \n",
       "1                f  2017-01-05  40.823556 -73.954573   \n",
       "2                f  2017-09-27  40.689306 -73.955478   \n",
       "3                f  2014-01-13  40.681965 -73.965490   \n",
       "4                f  2016-05-20  40.742842 -73.957554   \n",
       "\n",
       "                                                name       neighbourhood  \\\n",
       "0  Sunny Spacious Apt in Astoria w/ back yard access             Astoria   \n",
       "1                       Manhattan Sunny Private Room    Hamilton Heights   \n",
       "2                     Sweet Apartment on Quiet Block  Bedford-Stuyvesant   \n",
       "3                Husband & Wife Art-Filled Apartment        Clinton Hill   \n",
       "4                           Luxurious 1 Bedroom Apt!    Long Island City   \n",
       "\n",
       "   number_of_reviews  review_scores_rating  \\\n",
       "0                  9                  96.0   \n",
       "1                  8                 100.0   \n",
       "2                 12                 100.0   \n",
       "3                  2                  90.0   \n",
       "4                  1                  80.0   \n",
       "\n",
       "                                       thumbnail_url  zipcode  bedrooms  beds  \n",
       "0  https://a0.muscache.com/im/pictures/3e40924b-7...    11101       1.0   1.0  \n",
       "1  https://a0.muscache.com/im/pictures/2953dddd-0...    10031       1.0   1.0  \n",
       "2                                                NaN    11205       1.0   1.0  \n",
       "3  https://a0.muscache.com/im/pictures/81766960/b...  11238.0       1.0   1.0  \n",
       "4  https://a0.muscache.com/im/pictures/0ed6ee9e-6...    11101       1.0   1.0  "
      ]
     },
     "execution_count": 4,
     "metadata": {},
     "output_type": "execute_result"
    }
   ],
   "source": [
    "pd.set_option('display.max_columns', None)\n",
    "bnb.head()"
   ]
  },
  {
   "cell_type": "code",
   "execution_count": 5,
   "id": "a89d3524",
   "metadata": {},
   "outputs": [
    {
     "name": "stdout",
     "output_type": "stream",
     "text": [
      "<class 'pandas.core.frame.DataFrame'>\n",
      "RangeIndex: 59288 entries, 0 to 59287\n",
      "Data columns (total 29 columns):\n",
      " #   Column                  Non-Null Count  Dtype  \n",
      "---  ------                  --------------  -----  \n",
      " 0   id                      59288 non-null  int64  \n",
      " 1   log_price               59288 non-null  float64\n",
      " 2   property_type           59288 non-null  object \n",
      " 3   room_type               59288 non-null  object \n",
      " 4   amenities               59288 non-null  object \n",
      " 5   accommodates            59288 non-null  int64  \n",
      " 6   bathrooms               59139 non-null  float64\n",
      " 7   bed_type                59288 non-null  object \n",
      " 8   cancellation_policy     59288 non-null  object \n",
      " 9   cleaning_fee            59288 non-null  bool   \n",
      " 10  city                    59288 non-null  object \n",
      " 11  description             59288 non-null  object \n",
      " 12  first_review            46601 non-null  object \n",
      " 13  host_has_profile_pic    59148 non-null  object \n",
      " 14  host_identity_verified  59148 non-null  object \n",
      " 15  host_response_rate      44660 non-null  object \n",
      " 16  host_since              59148 non-null  object \n",
      " 17  instant_bookable        59288 non-null  object \n",
      " 18  last_review             46628 non-null  object \n",
      " 19  latitude                59288 non-null  float64\n",
      " 20  longitude               59288 non-null  float64\n",
      " 21  name                    59288 non-null  object \n",
      " 22  neighbourhood           53765 non-null  object \n",
      " 23  number_of_reviews       59288 non-null  int64  \n",
      " 24  review_scores_rating    45922 non-null  float64\n",
      " 25  thumbnail_url           52666 non-null  object \n",
      " 26  zipcode                 58533 non-null  object \n",
      " 27  bedrooms                59211 non-null  float64\n",
      " 28  beds                    59188 non-null  float64\n",
      "dtypes: bool(1), float64(7), int64(3), object(18)\n",
      "memory usage: 138.7 MB\n"
     ]
    }
   ],
   "source": [
    "bnb.info(memory_usage = \"deep\")"
   ]
  },
  {
   "cell_type": "markdown",
   "id": "075c707e",
   "metadata": {},
   "source": [
    "# Convierto todos los property_type que aparecen menos de 10 veces por \"Other\""
   ]
  },
  {
   "cell_type": "code",
   "execution_count": 6,
   "id": "2cbd749c",
   "metadata": {},
   "outputs": [
    {
     "data": {
      "text/plain": [
       "Apartment             39158\n",
       "House                 13295\n",
       "Condominium            2103\n",
       "Townhouse              1341\n",
       "Loft                    992\n",
       "Other                   469\n",
       "Guesthouse              401\n",
       "Bed & Breakfast         372\n",
       "Bungalow                297\n",
       "Villa                   142\n",
       "Dorm                    106\n",
       "Guest suite              99\n",
       "Camper/RV                80\n",
       "In-law                   62\n",
       "Hostel                   61\n",
       "Timeshare                59\n",
       "Cabin                    58\n",
       "Boutique hotel           57\n",
       "Boat                     49\n",
       "Serviced apartment       17\n",
       "Tent                     15\n",
       "Castle                   11\n",
       "Vacation home            10\n",
       "Yurt                      7\n",
       "Hut                       6\n",
       "Treehouse                 5\n",
       "Earth House               4\n",
       "Tipi                      3\n",
       "Cave                      2\n",
       "Chalet                    2\n",
       "Train                     2\n",
       "Lighthouse                1\n",
       "Casa particular           1\n",
       "Island                    1\n",
       "Name: property_type, dtype: int64"
      ]
     },
     "execution_count": 6,
     "metadata": {},
     "output_type": "execute_result"
    }
   ],
   "source": [
    "prop_counts = bnb['property_type'].value_counts()\n",
    "prop_counts"
   ]
  },
  {
   "cell_type": "code",
   "execution_count": 7,
   "id": "be0c7096",
   "metadata": {},
   "outputs": [],
   "source": [
    "# Identificar tipos con recuento menor que 10\n",
    "tipos_a_cambiar = prop_counts[prop_counts < 10].index\n",
    "\n",
    "# Cambiar los valores en la columna property_type\n",
    "bnb['property_type'] = bnb['property_type'].map(lambda x: 'Other' if x in tipos_a_cambiar else x)\n"
   ]
  },
  {
   "cell_type": "markdown",
   "id": "9db9480c",
   "metadata": {},
   "source": [
    "# Genero una variable mean_log_price como la media del log_price de los pares property_type - accommodates"
   ]
  },
  {
   "cell_type": "code",
   "execution_count": 8,
   "id": "2229ec08",
   "metadata": {},
   "outputs": [],
   "source": [
    "# Supongamos que 'bnb' es tu DataFrame\n",
    "# Calcula la media del log_price para cada combinación de property_type y accommodates\n",
    "grouped_df = bnb.groupby(['property_type','accommodates'])['log_price'].mean().reset_index()\n",
    "\n",
    "# Renombra la columna resultante\n",
    "grouped_df = grouped_df.rename(columns={'log_price': 'mean_log_price'})\n",
    "\n",
    "# Fusiona los resultados de nuevo en el DataFrame original\n",
    "bnb = pd.merge(bnb, grouped_df, on=['property_type','accommodates'], how='left')"
   ]
  },
  {
   "cell_type": "markdown",
   "id": "edf9cbf4",
   "metadata": {},
   "source": [
    "# Relleno los valores nulos en la columna bathroom con el promedio de baños para el número de huespedes "
   ]
  },
  {
   "cell_type": "code",
   "execution_count": 10,
   "id": "f60fe0a2",
   "metadata": {},
   "outputs": [],
   "source": [
    "# Calcular el promedio de baños para cada número de acomodates\n",
    "average_bathrooms = bnb.groupby('accommodates')['bathrooms'].transform('mean')\n",
    "\n",
    "# Llenar los valores nulos en la columna 'bathrooms' con los promedios calculados\n",
    "bnb['bathrooms'] = bnb['bathrooms'].fillna(average_bathrooms)\n",
    "bnb['bathrooms'] = bnb['bathrooms'].round(1)"
   ]
  },
  {
   "cell_type": "markdown",
   "id": "bd34c2d4",
   "metadata": {},
   "source": [
    "# Paso la columna cleaning_fee de tipo bool a int"
   ]
  },
  {
   "cell_type": "code",
   "execution_count": 11,
   "id": "98e8f505",
   "metadata": {},
   "outputs": [],
   "source": [
    "bnb['cleaning_fee'] = bnb['cleaning_fee'].astype(int)"
   ]
  },
  {
   "cell_type": "markdown",
   "id": "ddf6fc6e",
   "metadata": {},
   "source": [
    "# Parece que no hay gran diferencia entre tener foto de perfil o estar verificado en el log_price por lo que se van a eliminar esas dos columnas\n"
   ]
  },
  {
   "cell_type": "code",
   "execution_count": 12,
   "id": "f07e3478",
   "metadata": {},
   "outputs": [
    {
     "data": {
      "text/plain": [
       "(4.782476060710248, 4.9516436799328964)"
      ]
     },
     "execution_count": 12,
     "metadata": {},
     "output_type": "execute_result"
    }
   ],
   "source": [
    "bnb[bnb.host_has_profile_pic == \"t\"].log_price.mean() , bnb[bnb.host_has_profile_pic == \"f\"].log_price.mean()"
   ]
  },
  {
   "cell_type": "code",
   "execution_count": 13,
   "id": "e748c905",
   "metadata": {},
   "outputs": [
    {
     "data": {
      "text/plain": [
       "(4.79577355988958, 4.756846320603111)"
      ]
     },
     "execution_count": 13,
     "metadata": {},
     "output_type": "execute_result"
    }
   ],
   "source": [
    "bnb[bnb.host_identity_verified == \"t\"].log_price.mean() , bnb[bnb.host_identity_verified == \"f\"].log_price.mean()"
   ]
  },
  {
   "cell_type": "code",
   "execution_count": 14,
   "id": "a6ed416e",
   "metadata": {},
   "outputs": [],
   "source": [
    "columnas_a_eliminar = ['host_has_profile_pic', 'host_identity_verified']\n",
    "bnb = bnb.drop(columnas_a_eliminar, axis=1)"
   ]
  },
  {
   "cell_type": "markdown",
   "id": "199f8c3a",
   "metadata": {},
   "source": [
    "# Relleno los nulos de la columna host_since por el valor de first_review cuando sea posible, y por la fecha más reciente de host_since cuando first_review sea nulo tambien"
   ]
  },
  {
   "cell_type": "code",
   "execution_count": 15,
   "id": "a865a31d",
   "metadata": {},
   "outputs": [],
   "source": [
    "bnb['host_since'] = bnb['host_since'].fillna(bnb['first_review'])"
   ]
  },
  {
   "cell_type": "code",
   "execution_count": 16,
   "id": "5219defa",
   "metadata": {},
   "outputs": [],
   "source": [
    "bnb['host_since'] = bnb['host_since'].fillna(\"-\")"
   ]
  },
  {
   "cell_type": "code",
   "execution_count": 17,
   "id": "ae43ca66",
   "metadata": {},
   "outputs": [],
   "source": [
    "bnb['host_since'] = bnb['host_since'].replace('-', '2017-10-04')"
   ]
  },
  {
   "cell_type": "code",
   "execution_count": 18,
   "id": "8f5828b6",
   "metadata": {},
   "outputs": [],
   "source": [
    "bnb = bnb.drop(\"first_review\", axis=1)"
   ]
  },
  {
   "cell_type": "markdown",
   "id": "0e684da3",
   "metadata": {},
   "source": [
    "# Convierto a int la columna host_response_rate y relleno con la media los nulos"
   ]
  },
  {
   "cell_type": "code",
   "execution_count": 19,
   "id": "c28ae4e3",
   "metadata": {},
   "outputs": [],
   "source": [
    "bnb['host_response_rate'] = bnb['host_response_rate'].str.rstrip('%').astype('float')\n",
    "\n",
    "# Rellenar los valores nulos con la media\n",
    "media = bnb['host_response_rate'].mean()\n",
    "bnb['host_response_rate'].fillna(media, inplace=True)\n"
   ]
  },
  {
   "cell_type": "code",
   "execution_count": 20,
   "id": "f0f2c363",
   "metadata": {},
   "outputs": [],
   "source": [
    "bnb['host_response_rate'] = bnb['host_response_rate'].astype(int)"
   ]
  },
  {
   "cell_type": "markdown",
   "id": "c836b656",
   "metadata": {},
   "source": [
    "# Cambio la columna instant_bookable a binario"
   ]
  },
  {
   "cell_type": "code",
   "execution_count": 21,
   "id": "b0593c31",
   "metadata": {},
   "outputs": [],
   "source": [
    "bnb['instant_bookable'] = bnb['instant_bookable'].replace('f', 0)\n",
    "bnb['instant_bookable'] = bnb['instant_bookable'].replace('t', 1)"
   ]
  },
  {
   "cell_type": "markdown",
   "id": "a853c365",
   "metadata": {},
   "source": [
    "# Elimino la columna last_review y las columnas latitude y longitude ya que posteriormente voy a tratar de cuantificar la ubicación del alojamiento mediante clusterización de neighbourhood"
   ]
  },
  {
   "cell_type": "code",
   "execution_count": 22,
   "id": "d02e6e88",
   "metadata": {},
   "outputs": [],
   "source": [
    "bnb = bnb.drop(\"last_review\", axis=1)\n"
   ]
  },
  {
   "cell_type": "code",
   "execution_count": 23,
   "id": "07fc91fc",
   "metadata": {},
   "outputs": [
    {
     "data": {
      "text/plain": [
       "5523"
      ]
     },
     "execution_count": 23,
     "metadata": {},
     "output_type": "execute_result"
    }
   ],
   "source": [
    "len(bnb[bnb.neighbourhood.isna()])"
   ]
  },
  {
   "cell_type": "markdown",
   "id": "de994534",
   "metadata": {},
   "source": [
    "# Utilizo el modelo NearestNeighbors para asignar un barrio a aquellos valores nulos en función de las columnas ['latitude', 'longitude']"
   ]
  },
  {
   "cell_type": "code",
   "execution_count": 24,
   "id": "e56729b3",
   "metadata": {},
   "outputs": [],
   "source": [
    "bnb_nulos = bnb[bnb['neighbourhood'].isnull()]\n",
    "\n",
    "# Filtrar las filas sin valores nulos en 'barrio'\n",
    "bnb_no_nulos = bnb.dropna(subset=['neighbourhood'])\n",
    "\n",
    "# Definir el número de vecinos cercanos a considerar\n",
    "num_neighbors = 1\n",
    "\n",
    "# Inicializar el modelo NearestNeighbors\n",
    "neighbors_model = NearestNeighbors(n_neighbors=num_neighbors)\n",
    "\n",
    "# Ajustar el modelo a las coordenadas sin valores nulos en 'barrio'\n",
    "neighbors_model.fit(bnb_no_nulos[['latitude', 'longitude']])\n",
    "\n",
    "# Encontrar los vecinos más cercanos para las filas con valores nulos en 'barrio'\n",
    "distances, indices = neighbors_model.kneighbors(bnb_nulos[['latitude', 'longitude']])\n",
    "\n",
    "# Asociar los valores nulos en 'barrio' con los barrios correspondientes de los vecinos más cercanos\n",
    "bnb.loc[bnb['neighbourhood'].isnull(), 'neighbourhood'] = bnb_no_nulos.iloc[indices[:, 0]]['neighbourhood'].values\n"
   ]
  },
  {
   "cell_type": "markdown",
   "id": "00a56a09",
   "metadata": {},
   "source": [
    "# Se va a utilizar el barrio como variable de localización, por lo que se elimina la columna zipcode, además de la thumbnail_url, ya que escapa al análisis"
   ]
  },
  {
   "cell_type": "code",
   "execution_count": 25,
   "id": "20f65fb7",
   "metadata": {},
   "outputs": [],
   "source": [
    "bnb = bnb.drop(\"thumbnail_url\", axis=1)\n",
    "bnb = bnb.drop(\"zipcode\", axis=1)"
   ]
  },
  {
   "cell_type": "markdown",
   "id": "ed2a5f08",
   "metadata": {},
   "source": [
    "# Se rellenan los nulos de review_scores_rating con la media"
   ]
  },
  {
   "cell_type": "code",
   "execution_count": 26,
   "id": "93c75659",
   "metadata": {},
   "outputs": [],
   "source": [
    "bnb['review_scores_rating'] = bnb['review_scores_rating'].fillna(bnb.review_scores_rating.mean())\n",
    "bnb['review_scores_rating'] = bnb['review_scores_rating'].astype(int)"
   ]
  },
  {
   "cell_type": "markdown",
   "id": "79979ef6",
   "metadata": {},
   "source": [
    "# Relleno los valores nulos en la columna bedrooms con el promedio de baños para el número de huespedes "
   ]
  },
  {
   "cell_type": "code",
   "execution_count": 27,
   "id": "53669ddd",
   "metadata": {},
   "outputs": [],
   "source": [
    "average_bedrooms = bnb.groupby('accommodates')['bedrooms'].transform('mean')\n",
    "\n",
    "# Llenar los valores nulos en la columna 'bathrooms' con los promedios calculados\n",
    "bnb['bedrooms'] = bnb['bedrooms'].fillna(average_bedrooms)\n",
    "bnb['bedrooms'] = bnb['bedrooms'].round(1)"
   ]
  },
  {
   "cell_type": "code",
   "execution_count": 28,
   "id": "2d9b804a",
   "metadata": {},
   "outputs": [],
   "source": [
    "bnb['bedrooms'] = bnb['bedrooms'].astype(int)"
   ]
  },
  {
   "cell_type": "markdown",
   "id": "c8c4b4e3",
   "metadata": {},
   "source": [
    "# Se eliminan las columnas name y amenities por escapar del alcande de este análisis"
   ]
  },
  {
   "cell_type": "code",
   "execution_count": 29,
   "id": "20fe16ea",
   "metadata": {},
   "outputs": [],
   "source": [
    "bnb = bnb.drop(\"name\", axis=1)\n",
    "bnb = bnb.drop(\"amenities\", axis=1)"
   ]
  },
  {
   "cell_type": "markdown",
   "id": "85ff1e7c",
   "metadata": {},
   "source": [
    "# Relleno los valores nulos en la columna beds con el promedio de baños para el número de huespedes"
   ]
  },
  {
   "cell_type": "code",
   "execution_count": 30,
   "id": "44965aaa",
   "metadata": {},
   "outputs": [],
   "source": [
    "average_bedrooms = bnb.groupby('accommodates')['beds'].transform('mean')\n",
    "\n",
    "# Llenar los valores nulos en la columna 'bathrooms' con los promedios calculados\n",
    "bnb['beds'] = bnb['beds'].fillna(average_bedrooms)\n",
    "bnb['beds'] = bnb['beds'].round(1)\n",
    "bnb['beds'] = bnb['beds'].astype(int)"
   ]
  },
  {
   "cell_type": "markdown",
   "id": "fb411df5",
   "metadata": {},
   "source": [
    "# Utilizo la columna host_since para categorizar la antiguedad del host en 4 categorías"
   ]
  },
  {
   "cell_type": "code",
   "execution_count": 31,
   "id": "0c5a0568",
   "metadata": {},
   "outputs": [],
   "source": [
    "# Convertir la columna 'host_since' a tipo datetime\n",
    "bnb['host_since'] = pd.to_datetime(bnb['host_since'])\n",
    "\n",
    "# 1. Extracción de Año y Mes\n",
    "bnb['host_year'] = bnb['host_since'].dt.year\n",
    "bnb['host_month'] = bnb['host_since'].dt.month\n",
    "\n",
    "# 2. Calcular la Antigüedad en Años\n",
    "bnb['host_age_years'] = (pd.to_datetime('2017-10-04 00:00:00') - bnb['host_since']).dt.days / 365.25\n",
    "\n",
    "# 3. Creación de Categorías por Rangos de Tiempo\n",
    "bins = [0, 1, 2, 5, float('inf')]  # Ajustar los puntos de corte según el rango de fechas\n",
    "labels = ['nuevo', 'poco_experimentado', 'experimentado', 'muy_experimentado']\n",
    "bnb['host_experience'] = pd.cut(bnb['host_age_years'], bins=bins, labels=labels)"
   ]
  },
  {
   "cell_type": "code",
   "execution_count": 32,
   "id": "a8609185",
   "metadata": {},
   "outputs": [
    {
     "data": {
      "text/plain": [
       "experimentado         30893\n",
       "poco_experimentado    11583\n",
       "muy_experimentado     10839\n",
       "nuevo                  5938\n",
       "Name: host_experience, dtype: int64"
      ]
     },
     "execution_count": 32,
     "metadata": {},
     "output_type": "execute_result"
    }
   ],
   "source": [
    "bnb.host_experience.value_counts()"
   ]
  },
  {
   "cell_type": "code",
   "execution_count": 33,
   "id": "b48116a7",
   "metadata": {},
   "outputs": [],
   "source": [
    "columns = ['host_year', 'host_month']\n",
    "bnb = bnb.drop(columns, axis=1)"
   ]
  },
  {
   "cell_type": "code",
   "execution_count": 34,
   "id": "bdbf3a76",
   "metadata": {},
   "outputs": [
    {
     "data": {
      "text/plain": [
       "611"
      ]
     },
     "execution_count": 34,
     "metadata": {},
     "output_type": "execute_result"
    }
   ],
   "source": [
    "len(bnb.neighbourhood.value_counts())"
   ]
  },
  {
   "cell_type": "markdown",
   "id": "ba3de621",
   "metadata": {},
   "source": [
    "# Voy a clusterizar los barrios en función de log_price "
   ]
  },
  {
   "cell_type": "code",
   "execution_count": 36,
   "id": "742f297d",
   "metadata": {},
   "outputs": [
    {
     "name": "stderr",
     "output_type": "stream",
     "text": [
      "C:\\Users\\daarr\\anaconda3\\Lib\\site-packages\\sklearn\\cluster\\_kmeans.py:1412: FutureWarning: The default value of `n_init` will change from 10 to 'auto' in 1.4. Set the value of `n_init` explicitly to suppress the warning\n",
      "  super()._check_params_vs_input(X, default_n_init=10)\n",
      "C:\\Users\\daarr\\anaconda3\\Lib\\site-packages\\sklearn\\cluster\\_kmeans.py:1436: UserWarning: KMeans is known to have a memory leak on Windows with MKL, when there are less chunks than available threads. You can avoid it by setting the environment variable OMP_NUM_THREADS=3.\n",
      "  warnings.warn(\n"
     ]
    }
   ],
   "source": [
    "# Asumiendo que 'log_price' y 'neighbourhood' son columnas relevantes en tu DataFrame\n",
    "X = bnb[['log_price', 'neighbourhood']]\n",
    "\n",
    "# Calcula la media del log_price para cada barrio\n",
    "neighbourhood_means = X.groupby('neighbourhood')['log_price'].mean().reset_index()\n",
    "\n",
    "# Crea un DataFrame con las medias del log_price por barrio\n",
    "neighbourhood_means.columns = ['neighbourhood', 'log_price_mean']\n",
    "\n",
    "# Normaliza la columna 'log_price_mean'\n",
    "scaler = StandardScaler()\n",
    "neighbourhood_means_scaled = scaler.fit_transform(neighbourhood_means[['log_price_mean']])\n",
    "\n",
    "# Aplica el algoritmo de k-means a las medias normalizadas\n",
    "kmeans = KMeans(n_clusters=12, random_state=42)\n",
    "neighbourhood_means['neighbourhood_cluster'] = kmeans.fit_predict(neighbourhood_means_scaled)\n",
    "\n",
    "# Ordena los clusters según la media del log_price\n",
    "cluster_order = neighbourhood_means.groupby('neighbourhood_cluster')['log_price_mean'].mean().sort_values().index\n",
    "neighbourhood_means['neighbourhood_cluster'] = neighbourhood_means['neighbourhood_cluster'].map(\n",
    "    {cluster: order + 1 for order, cluster in enumerate(cluster_order)}\n",
    ")\n",
    "\n",
    "# Crea un diccionario de mapeo de barrios a clusters\n",
    "neighbourhood_cluster_mapping = dict(zip(neighbourhood_means['neighbourhood'], neighbourhood_means['neighbourhood_cluster']))\n",
    "\n",
    "# Aplica el mapeo de clusters al DataFrame original\n",
    "bnb['neighbourhood_cluster'] = bnb['neighbourhood'].map(neighbourhood_cluster_mapping)"
   ]
  },
  {
   "cell_type": "code",
   "execution_count": 37,
   "id": "ee796873",
   "metadata": {},
   "outputs": [],
   "source": [
    "# Grafica los puntos de los barrios y sus clusters, coloreando por property_type\n",
    "plt.figure(figsize=(12, 8))\n",
    "sns.scatterplot(x='log_price', y='neighbourhood', hue='neighbourhood_cluster',\n",
    "                style='neighbourhood', data=bnb, palette='viridis', s=100)\n",
    "plt.title('Clusters de Tipos de Propiedad basados en Media de Log_Price')\n",
    "plt.xlabel('Log_Price')\n",
    "plt.ylabel('Barrio')\n",
    "plt.legend(title='Cluster', loc='upper right', bbox_to_anchor=(1.25, 1))\n",
    "plt.show();"
   ]
  },
  {
   "cell_type": "code",
   "execution_count": 39,
   "id": "4e9a0c17",
   "metadata": {},
   "outputs": [],
   "source": [
    "bnb = bnb.drop(\"latitude\", axis=1)\n",
    "bnb = bnb.drop(\"longitude\", axis=1)"
   ]
  },
  {
   "cell_type": "code",
   "execution_count": 41,
   "id": "b4616502",
   "metadata": {},
   "outputs": [],
   "source": [
    "bnb['host_experience'] = bnb['host_experience'].fillna(\"nuevo\")"
   ]
  },
  {
   "cell_type": "code",
   "execution_count": 42,
   "id": "ec70b6fc",
   "metadata": {},
   "outputs": [],
   "source": [
    "columns = [\"host_age_years\",\"host_since\"]\n",
    "bnb = bnb.drop(columns, axis=1)"
   ]
  },
  {
   "cell_type": "code",
   "execution_count": 46,
   "id": "3d2d342a",
   "metadata": {},
   "outputs": [
    {
     "name": "stdout",
     "output_type": "stream",
     "text": [
      "<class 'pandas.core.frame.DataFrame'>\n",
      "Int64Index: 59288 entries, 0 to 59287\n",
      "Data columns (total 21 columns):\n",
      " #   Column                 Non-Null Count  Dtype   \n",
      "---  ------                 --------------  -----   \n",
      " 0   id                     59288 non-null  int64   \n",
      " 1   log_price              59288 non-null  float64 \n",
      " 2   property_type          59288 non-null  object  \n",
      " 3   room_type              59288 non-null  object  \n",
      " 4   accommodates           59288 non-null  int64   \n",
      " 5   bathrooms              59288 non-null  float64 \n",
      " 6   bed_type               59288 non-null  object  \n",
      " 7   cancellation_policy    59288 non-null  object  \n",
      " 8   cleaning_fee           59288 non-null  int32   \n",
      " 9   city                   59288 non-null  object  \n",
      " 10  description            59288 non-null  object  \n",
      " 11  host_response_rate     59288 non-null  int32   \n",
      " 12  instant_bookable       59288 non-null  int64   \n",
      " 13  neighbourhood          59288 non-null  object  \n",
      " 14  number_of_reviews      59288 non-null  int64   \n",
      " 15  review_scores_rating   59288 non-null  int32   \n",
      " 16  bedrooms               59288 non-null  int32   \n",
      " 17  beds                   59288 non-null  int32   \n",
      " 18  mean_log_price         59288 non-null  float64 \n",
      " 19  host_experience        59288 non-null  category\n",
      " 20  neighbourhood_cluster  59288 non-null  int64   \n",
      "dtypes: category(1), float64(3), int32(5), int64(5), object(7)\n",
      "memory usage: 80.8 MB\n"
     ]
    }
   ],
   "source": [
    "bnb.info(memory_usage = \"deep\")"
   ]
  },
  {
   "cell_type": "code",
   "execution_count": 47,
   "id": "7d62897d",
   "metadata": {},
   "outputs": [
    {
     "data": {
      "text/html": [
       "<div>\n",
       "<style scoped>\n",
       "    .dataframe tbody tr th:only-of-type {\n",
       "        vertical-align: middle;\n",
       "    }\n",
       "\n",
       "    .dataframe tbody tr th {\n",
       "        vertical-align: top;\n",
       "    }\n",
       "\n",
       "    .dataframe thead th {\n",
       "        text-align: right;\n",
       "    }\n",
       "</style>\n",
       "<table border=\"1\" class=\"dataframe\">\n",
       "  <thead>\n",
       "    <tr style=\"text-align: right;\">\n",
       "      <th></th>\n",
       "      <th>id</th>\n",
       "      <th>log_price</th>\n",
       "      <th>property_type</th>\n",
       "      <th>room_type</th>\n",
       "      <th>accommodates</th>\n",
       "      <th>bathrooms</th>\n",
       "      <th>bed_type</th>\n",
       "      <th>cancellation_policy</th>\n",
       "      <th>cleaning_fee</th>\n",
       "      <th>city</th>\n",
       "      <th>description</th>\n",
       "      <th>host_response_rate</th>\n",
       "      <th>instant_bookable</th>\n",
       "      <th>neighbourhood</th>\n",
       "      <th>number_of_reviews</th>\n",
       "      <th>review_scores_rating</th>\n",
       "      <th>bedrooms</th>\n",
       "      <th>beds</th>\n",
       "      <th>mean_log_price</th>\n",
       "      <th>host_experience</th>\n",
       "      <th>neighbourhood_cluster</th>\n",
       "    </tr>\n",
       "  </thead>\n",
       "  <tbody>\n",
       "    <tr>\n",
       "      <th>0</th>\n",
       "      <td>15148661</td>\n",
       "      <td>4.499810</td>\n",
       "      <td>Apartment</td>\n",
       "      <td>Entire home/apt</td>\n",
       "      <td>2</td>\n",
       "      <td>1.0</td>\n",
       "      <td>Real Bed</td>\n",
       "      <td>flexible</td>\n",
       "      <td>1</td>\n",
       "      <td>NYC</td>\n",
       "      <td>A great spacious apartment in an awesome and c...</td>\n",
       "      <td>80</td>\n",
       "      <td>0</td>\n",
       "      <td>Astoria</td>\n",
       "      <td>9</td>\n",
       "      <td>96</td>\n",
       "      <td>1</td>\n",
       "      <td>1</td>\n",
       "      <td>4.594133</td>\n",
       "      <td>poco_experimentado</td>\n",
       "      <td>6</td>\n",
       "    </tr>\n",
       "    <tr>\n",
       "      <th>1</th>\n",
       "      <td>1227528</td>\n",
       "      <td>3.970292</td>\n",
       "      <td>Apartment</td>\n",
       "      <td>Private room</td>\n",
       "      <td>2</td>\n",
       "      <td>1.0</td>\n",
       "      <td>Futon</td>\n",
       "      <td>strict</td>\n",
       "      <td>1</td>\n",
       "      <td>NYC</td>\n",
       "      <td>Newly Renovated Two Bedroom Apartment in Hamil...</td>\n",
       "      <td>94</td>\n",
       "      <td>0</td>\n",
       "      <td>Hamilton Heights</td>\n",
       "      <td>8</td>\n",
       "      <td>100</td>\n",
       "      <td>1</td>\n",
       "      <td>1</td>\n",
       "      <td>4.594133</td>\n",
       "      <td>experimentado</td>\n",
       "      <td>5</td>\n",
       "    </tr>\n",
       "    <tr>\n",
       "      <th>2</th>\n",
       "      <td>15692740</td>\n",
       "      <td>4.787492</td>\n",
       "      <td>Apartment</td>\n",
       "      <td>Entire home/apt</td>\n",
       "      <td>4</td>\n",
       "      <td>1.0</td>\n",
       "      <td>Real Bed</td>\n",
       "      <td>moderate</td>\n",
       "      <td>1</td>\n",
       "      <td>NYC</td>\n",
       "      <td>One bedroom, one bathroom apartment, with an o...</td>\n",
       "      <td>100</td>\n",
       "      <td>0</td>\n",
       "      <td>Bedford-Stuyvesant</td>\n",
       "      <td>12</td>\n",
       "      <td>100</td>\n",
       "      <td>1</td>\n",
       "      <td>1</td>\n",
       "      <td>5.072061</td>\n",
       "      <td>muy_experimentado</td>\n",
       "      <td>5</td>\n",
       "    </tr>\n",
       "    <tr>\n",
       "      <th>3</th>\n",
       "      <td>19115685</td>\n",
       "      <td>4.700480</td>\n",
       "      <td>Apartment</td>\n",
       "      <td>Entire home/apt</td>\n",
       "      <td>3</td>\n",
       "      <td>1.1</td>\n",
       "      <td>Real Bed</td>\n",
       "      <td>moderate</td>\n",
       "      <td>0</td>\n",
       "      <td>NYC</td>\n",
       "      <td>Comfy, art- and book-filled one-bedroom apartm...</td>\n",
       "      <td>94</td>\n",
       "      <td>0</td>\n",
       "      <td>Clinton Hill</td>\n",
       "      <td>2</td>\n",
       "      <td>90</td>\n",
       "      <td>1</td>\n",
       "      <td>1</td>\n",
       "      <td>4.861277</td>\n",
       "      <td>muy_experimentado</td>\n",
       "      <td>7</td>\n",
       "    </tr>\n",
       "    <tr>\n",
       "      <th>4</th>\n",
       "      <td>2554110</td>\n",
       "      <td>5.192957</td>\n",
       "      <td>Apartment</td>\n",
       "      <td>Entire home/apt</td>\n",
       "      <td>3</td>\n",
       "      <td>1.0</td>\n",
       "      <td>Real Bed</td>\n",
       "      <td>strict</td>\n",
       "      <td>1</td>\n",
       "      <td>NYC</td>\n",
       "      <td>1br/1ba. Spacious living room with plenty of s...</td>\n",
       "      <td>94</td>\n",
       "      <td>0</td>\n",
       "      <td>Long Island City</td>\n",
       "      <td>1</td>\n",
       "      <td>80</td>\n",
       "      <td>1</td>\n",
       "      <td>1</td>\n",
       "      <td>4.861277</td>\n",
       "      <td>muy_experimentado</td>\n",
       "      <td>7</td>\n",
       "    </tr>\n",
       "  </tbody>\n",
       "</table>\n",
       "</div>"
      ],
      "text/plain": [
       "         id  log_price property_type        room_type  accommodates  \\\n",
       "0  15148661   4.499810     Apartment  Entire home/apt             2   \n",
       "1   1227528   3.970292     Apartment     Private room             2   \n",
       "2  15692740   4.787492     Apartment  Entire home/apt             4   \n",
       "3  19115685   4.700480     Apartment  Entire home/apt             3   \n",
       "4   2554110   5.192957     Apartment  Entire home/apt             3   \n",
       "\n",
       "   bathrooms  bed_type cancellation_policy  cleaning_fee city  \\\n",
       "0        1.0  Real Bed            flexible             1  NYC   \n",
       "1        1.0     Futon              strict             1  NYC   \n",
       "2        1.0  Real Bed            moderate             1  NYC   \n",
       "3        1.1  Real Bed            moderate             0  NYC   \n",
       "4        1.0  Real Bed              strict             1  NYC   \n",
       "\n",
       "                                         description  host_response_rate  \\\n",
       "0  A great spacious apartment in an awesome and c...                  80   \n",
       "1  Newly Renovated Two Bedroom Apartment in Hamil...                  94   \n",
       "2  One bedroom, one bathroom apartment, with an o...                 100   \n",
       "3  Comfy, art- and book-filled one-bedroom apartm...                  94   \n",
       "4  1br/1ba. Spacious living room with plenty of s...                  94   \n",
       "\n",
       "   instant_bookable       neighbourhood  number_of_reviews  \\\n",
       "0                 0             Astoria                  9   \n",
       "1                 0    Hamilton Heights                  8   \n",
       "2                 0  Bedford-Stuyvesant                 12   \n",
       "3                 0        Clinton Hill                  2   \n",
       "4                 0    Long Island City                  1   \n",
       "\n",
       "   review_scores_rating  bedrooms  beds  mean_log_price     host_experience  \\\n",
       "0                    96         1     1        4.594133  poco_experimentado   \n",
       "1                   100         1     1        4.594133       experimentado   \n",
       "2                   100         1     1        5.072061   muy_experimentado   \n",
       "3                    90         1     1        4.861277   muy_experimentado   \n",
       "4                    80         1     1        4.861277   muy_experimentado   \n",
       "\n",
       "   neighbourhood_cluster  \n",
       "0                      6  \n",
       "1                      5  \n",
       "2                      5  \n",
       "3                      7  \n",
       "4                      7  "
      ]
     },
     "execution_count": 47,
     "metadata": {},
     "output_type": "execute_result"
    }
   ],
   "source": [
    "bnb.head()"
   ]
  },
  {
   "cell_type": "code",
   "execution_count": 48,
   "id": "43a202fc",
   "metadata": {},
   "outputs": [
    {
     "data": {
      "text/plain": [
       "Index(['id', 'log_price', 'property_type', 'room_type', 'accommodates',\n",
       "       'bathrooms', 'bed_type', 'cancellation_policy', 'cleaning_fee', 'city',\n",
       "       'description', 'host_response_rate', 'instant_bookable',\n",
       "       'neighbourhood', 'number_of_reviews', 'review_scores_rating',\n",
       "       'bedrooms', 'beds', 'mean_log_price', 'host_experience',\n",
       "       'neighbourhood_cluster'],\n",
       "      dtype='object')"
      ]
     },
     "execution_count": 48,
     "metadata": {},
     "output_type": "execute_result"
    }
   ],
   "source": [
    "bnb.columns"
   ]
  },
  {
   "cell_type": "code",
   "execution_count": 49,
   "id": "2c3cbab3",
   "metadata": {},
   "outputs": [],
   "source": [
    "bnb = bnb[['log_price', 'room_type', 'cleaning_fee',\n",
    "           'cancellation_policy','city','host_experience',\n",
    "           'accommodates','bathrooms', 'bedrooms', 'property_type','mean_log_price','neighbourhood_cluster','neighbourhood']]"
   ]
  },
  {
   "cell_type": "code",
   "execution_count": 50,
   "id": "aa70b203",
   "metadata": {},
   "outputs": [],
   "source": [
    "bnb.to_csv(\"../data/train_clean3.csv\", index=False)"
   ]
  }
 ],
 "metadata": {
  "kernelspec": {
   "display_name": "Python 3 (ipykernel)",
   "language": "python",
   "name": "python3"
  },
  "language_info": {
   "codemirror_mode": {
    "name": "ipython",
    "version": 3
   },
   "file_extension": ".py",
   "mimetype": "text/x-python",
   "name": "python",
   "nbconvert_exporter": "python",
   "pygments_lexer": "ipython3",
   "version": "3.11.4"
  }
 },
 "nbformat": 4,
 "nbformat_minor": 5
}
