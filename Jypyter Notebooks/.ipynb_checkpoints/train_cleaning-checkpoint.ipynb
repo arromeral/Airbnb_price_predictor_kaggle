{
 "cells": [
  {
   "cell_type": "code",
   "execution_count": 1,
   "id": "f7268f21",
   "metadata": {},
   "outputs": [],
   "source": [
    "import pandas as pd\n",
    "import numpy as np\n",
    "from sklearn.metrics.pairwise import euclidean_distances\n",
    "from scipy.spatial.distance import cdist\n",
    "from sklearn.neighbors import NearestNeighbors\n",
    "from sklearn.cluster import KMeans\n",
    "from sklearn.preprocessing import StandardScaler\n",
    "import matplotlib.pyplot as plt"
   ]
  },
  {
   "cell_type": "code",
   "execution_count": 2,
   "id": "334fb418",
   "metadata": {},
   "outputs": [],
   "source": [
    "bnb = pd.read_csv(\"../data/train.csv\")\n",
    "# bnb2 = pd.read_csv(\"../data/test.csv\")\n"
   ]
  },
  {
   "cell_type": "code",
   "execution_count": 3,
   "id": "af602703",
   "metadata": {},
   "outputs": [
    {
     "data": {
      "text/html": [
       "<div>\n",
       "<style scoped>\n",
       "    .dataframe tbody tr th:only-of-type {\n",
       "        vertical-align: middle;\n",
       "    }\n",
       "\n",
       "    .dataframe tbody tr th {\n",
       "        vertical-align: top;\n",
       "    }\n",
       "\n",
       "    .dataframe thead th {\n",
       "        text-align: right;\n",
       "    }\n",
       "</style>\n",
       "<table border=\"1\" class=\"dataframe\">\n",
       "  <thead>\n",
       "    <tr style=\"text-align: right;\">\n",
       "      <th></th>\n",
       "      <th>id</th>\n",
       "      <th>log_price</th>\n",
       "      <th>property_type</th>\n",
       "      <th>room_type</th>\n",
       "      <th>amenities</th>\n",
       "      <th>accommodates</th>\n",
       "      <th>bathrooms</th>\n",
       "      <th>bed_type</th>\n",
       "      <th>cancellation_policy</th>\n",
       "      <th>cleaning_fee</th>\n",
       "      <th>city</th>\n",
       "      <th>description</th>\n",
       "      <th>first_review</th>\n",
       "      <th>host_has_profile_pic</th>\n",
       "      <th>host_identity_verified</th>\n",
       "      <th>host_response_rate</th>\n",
       "      <th>host_since</th>\n",
       "      <th>instant_bookable</th>\n",
       "      <th>last_review</th>\n",
       "      <th>latitude</th>\n",
       "      <th>longitude</th>\n",
       "      <th>name</th>\n",
       "      <th>neighbourhood</th>\n",
       "      <th>number_of_reviews</th>\n",
       "      <th>review_scores_rating</th>\n",
       "      <th>thumbnail_url</th>\n",
       "      <th>zipcode</th>\n",
       "      <th>bedrooms</th>\n",
       "      <th>beds</th>\n",
       "    </tr>\n",
       "  </thead>\n",
       "  <tbody>\n",
       "    <tr>\n",
       "      <th>0</th>\n",
       "      <td>15148661</td>\n",
       "      <td>4.499810</td>\n",
       "      <td>Apartment</td>\n",
       "      <td>Entire home/apt</td>\n",
       "      <td>{TV,Internet,\"Wireless Internet\",\"Air conditio...</td>\n",
       "      <td>2</td>\n",
       "      <td>1.0</td>\n",
       "      <td>Real Bed</td>\n",
       "      <td>flexible</td>\n",
       "      <td>True</td>\n",
       "      <td>NYC</td>\n",
       "      <td>A great spacious apartment in an awesome and c...</td>\n",
       "      <td>2016-07-25</td>\n",
       "      <td>t</td>\n",
       "      <td>t</td>\n",
       "      <td>80%</td>\n",
       "      <td>2015-11-04</td>\n",
       "      <td>f</td>\n",
       "      <td>2017-09-10</td>\n",
       "      <td>40.757349</td>\n",
       "      <td>-73.921339</td>\n",
       "      <td>Sunny Spacious Apt in Astoria w/ back yard access</td>\n",
       "      <td>Astoria</td>\n",
       "      <td>9</td>\n",
       "      <td>96.0</td>\n",
       "      <td>https://a0.muscache.com/im/pictures/3e40924b-7...</td>\n",
       "      <td>11101</td>\n",
       "      <td>1.0</td>\n",
       "      <td>1.0</td>\n",
       "    </tr>\n",
       "    <tr>\n",
       "      <th>1</th>\n",
       "      <td>1227528</td>\n",
       "      <td>3.970292</td>\n",
       "      <td>Apartment</td>\n",
       "      <td>Private room</td>\n",
       "      <td>{Internet,\"Wireless Internet\",\"Air conditionin...</td>\n",
       "      <td>2</td>\n",
       "      <td>1.0</td>\n",
       "      <td>Futon</td>\n",
       "      <td>strict</td>\n",
       "      <td>True</td>\n",
       "      <td>NYC</td>\n",
       "      <td>Newly Renovated Two Bedroom Apartment in Hamil...</td>\n",
       "      <td>2016-09-01</td>\n",
       "      <td>t</td>\n",
       "      <td>t</td>\n",
       "      <td>NaN</td>\n",
       "      <td>2014-08-26</td>\n",
       "      <td>f</td>\n",
       "      <td>2017-01-05</td>\n",
       "      <td>40.823556</td>\n",
       "      <td>-73.954573</td>\n",
       "      <td>Manhattan Sunny Private Room</td>\n",
       "      <td>Hamilton Heights</td>\n",
       "      <td>8</td>\n",
       "      <td>100.0</td>\n",
       "      <td>https://a0.muscache.com/im/pictures/2953dddd-0...</td>\n",
       "      <td>10031</td>\n",
       "      <td>1.0</td>\n",
       "      <td>1.0</td>\n",
       "    </tr>\n",
       "    <tr>\n",
       "      <th>2</th>\n",
       "      <td>15692740</td>\n",
       "      <td>4.787492</td>\n",
       "      <td>Apartment</td>\n",
       "      <td>Entire home/apt</td>\n",
       "      <td>{\"Wireless Internet\",\"Air conditioning\",\"Wheel...</td>\n",
       "      <td>4</td>\n",
       "      <td>1.0</td>\n",
       "      <td>Real Bed</td>\n",
       "      <td>moderate</td>\n",
       "      <td>True</td>\n",
       "      <td>NYC</td>\n",
       "      <td>One bedroom, one bathroom apartment, with an o...</td>\n",
       "      <td>2016-01-05</td>\n",
       "      <td>t</td>\n",
       "      <td>t</td>\n",
       "      <td>100%</td>\n",
       "      <td>2011-01-29</td>\n",
       "      <td>f</td>\n",
       "      <td>2017-09-27</td>\n",
       "      <td>40.689306</td>\n",
       "      <td>-73.955478</td>\n",
       "      <td>Sweet Apartment on Quiet Block</td>\n",
       "      <td>Bedford-Stuyvesant</td>\n",
       "      <td>12</td>\n",
       "      <td>100.0</td>\n",
       "      <td>NaN</td>\n",
       "      <td>11205</td>\n",
       "      <td>1.0</td>\n",
       "      <td>1.0</td>\n",
       "    </tr>\n",
       "    <tr>\n",
       "      <th>3</th>\n",
       "      <td>19115685</td>\n",
       "      <td>4.700480</td>\n",
       "      <td>Apartment</td>\n",
       "      <td>Entire home/apt</td>\n",
       "      <td>{Internet,\"Wireless Internet\",\"Air conditionin...</td>\n",
       "      <td>3</td>\n",
       "      <td>NaN</td>\n",
       "      <td>Real Bed</td>\n",
       "      <td>moderate</td>\n",
       "      <td>False</td>\n",
       "      <td>NYC</td>\n",
       "      <td>Comfy, art- and book-filled one-bedroom apartm...</td>\n",
       "      <td>2014-01-06</td>\n",
       "      <td>t</td>\n",
       "      <td>f</td>\n",
       "      <td>NaN</td>\n",
       "      <td>2011-10-26</td>\n",
       "      <td>f</td>\n",
       "      <td>2014-01-13</td>\n",
       "      <td>40.681965</td>\n",
       "      <td>-73.965490</td>\n",
       "      <td>Husband &amp; Wife Art-Filled Apartment</td>\n",
       "      <td>Clinton Hill</td>\n",
       "      <td>2</td>\n",
       "      <td>90.0</td>\n",
       "      <td>https://a0.muscache.com/im/pictures/81766960/b...</td>\n",
       "      <td>11238.0</td>\n",
       "      <td>1.0</td>\n",
       "      <td>1.0</td>\n",
       "    </tr>\n",
       "    <tr>\n",
       "      <th>4</th>\n",
       "      <td>2554110</td>\n",
       "      <td>5.192957</td>\n",
       "      <td>Apartment</td>\n",
       "      <td>Entire home/apt</td>\n",
       "      <td>{TV,\"Wireless Internet\",\"Air conditioning\",Kit...</td>\n",
       "      <td>3</td>\n",
       "      <td>1.0</td>\n",
       "      <td>Real Bed</td>\n",
       "      <td>strict</td>\n",
       "      <td>True</td>\n",
       "      <td>NYC</td>\n",
       "      <td>1br/1ba. Spacious living room with plenty of s...</td>\n",
       "      <td>2016-05-20</td>\n",
       "      <td>t</td>\n",
       "      <td>f</td>\n",
       "      <td>NaN</td>\n",
       "      <td>2012-06-21</td>\n",
       "      <td>f</td>\n",
       "      <td>2016-05-20</td>\n",
       "      <td>40.742842</td>\n",
       "      <td>-73.957554</td>\n",
       "      <td>Luxurious 1 Bedroom Apt!</td>\n",
       "      <td>Long Island City</td>\n",
       "      <td>1</td>\n",
       "      <td>80.0</td>\n",
       "      <td>https://a0.muscache.com/im/pictures/0ed6ee9e-6...</td>\n",
       "      <td>11101</td>\n",
       "      <td>1.0</td>\n",
       "      <td>1.0</td>\n",
       "    </tr>\n",
       "  </tbody>\n",
       "</table>\n",
       "</div>"
      ],
      "text/plain": [
       "         id  log_price property_type        room_type  \\\n",
       "0  15148661   4.499810     Apartment  Entire home/apt   \n",
       "1   1227528   3.970292     Apartment     Private room   \n",
       "2  15692740   4.787492     Apartment  Entire home/apt   \n",
       "3  19115685   4.700480     Apartment  Entire home/apt   \n",
       "4   2554110   5.192957     Apartment  Entire home/apt   \n",
       "\n",
       "                                           amenities  accommodates  bathrooms  \\\n",
       "0  {TV,Internet,\"Wireless Internet\",\"Air conditio...             2        1.0   \n",
       "1  {Internet,\"Wireless Internet\",\"Air conditionin...             2        1.0   \n",
       "2  {\"Wireless Internet\",\"Air conditioning\",\"Wheel...             4        1.0   \n",
       "3  {Internet,\"Wireless Internet\",\"Air conditionin...             3        NaN   \n",
       "4  {TV,\"Wireless Internet\",\"Air conditioning\",Kit...             3        1.0   \n",
       "\n",
       "   bed_type cancellation_policy  cleaning_fee city  \\\n",
       "0  Real Bed            flexible          True  NYC   \n",
       "1     Futon              strict          True  NYC   \n",
       "2  Real Bed            moderate          True  NYC   \n",
       "3  Real Bed            moderate         False  NYC   \n",
       "4  Real Bed              strict          True  NYC   \n",
       "\n",
       "                                         description first_review  \\\n",
       "0  A great spacious apartment in an awesome and c...   2016-07-25   \n",
       "1  Newly Renovated Two Bedroom Apartment in Hamil...   2016-09-01   \n",
       "2  One bedroom, one bathroom apartment, with an o...   2016-01-05   \n",
       "3  Comfy, art- and book-filled one-bedroom apartm...   2014-01-06   \n",
       "4  1br/1ba. Spacious living room with plenty of s...   2016-05-20   \n",
       "\n",
       "  host_has_profile_pic host_identity_verified host_response_rate  host_since  \\\n",
       "0                    t                      t                80%  2015-11-04   \n",
       "1                    t                      t                NaN  2014-08-26   \n",
       "2                    t                      t               100%  2011-01-29   \n",
       "3                    t                      f                NaN  2011-10-26   \n",
       "4                    t                      f                NaN  2012-06-21   \n",
       "\n",
       "  instant_bookable last_review   latitude  longitude  \\\n",
       "0                f  2017-09-10  40.757349 -73.921339   \n",
       "1                f  2017-01-05  40.823556 -73.954573   \n",
       "2                f  2017-09-27  40.689306 -73.955478   \n",
       "3                f  2014-01-13  40.681965 -73.965490   \n",
       "4                f  2016-05-20  40.742842 -73.957554   \n",
       "\n",
       "                                                name       neighbourhood  \\\n",
       "0  Sunny Spacious Apt in Astoria w/ back yard access             Astoria   \n",
       "1                       Manhattan Sunny Private Room    Hamilton Heights   \n",
       "2                     Sweet Apartment on Quiet Block  Bedford-Stuyvesant   \n",
       "3                Husband & Wife Art-Filled Apartment        Clinton Hill   \n",
       "4                           Luxurious 1 Bedroom Apt!    Long Island City   \n",
       "\n",
       "   number_of_reviews  review_scores_rating  \\\n",
       "0                  9                  96.0   \n",
       "1                  8                 100.0   \n",
       "2                 12                 100.0   \n",
       "3                  2                  90.0   \n",
       "4                  1                  80.0   \n",
       "\n",
       "                                       thumbnail_url  zipcode  bedrooms  beds  \n",
       "0  https://a0.muscache.com/im/pictures/3e40924b-7...    11101       1.0   1.0  \n",
       "1  https://a0.muscache.com/im/pictures/2953dddd-0...    10031       1.0   1.0  \n",
       "2                                                NaN    11205       1.0   1.0  \n",
       "3  https://a0.muscache.com/im/pictures/81766960/b...  11238.0       1.0   1.0  \n",
       "4  https://a0.muscache.com/im/pictures/0ed6ee9e-6...    11101       1.0   1.0  "
      ]
     },
     "execution_count": 3,
     "metadata": {},
     "output_type": "execute_result"
    }
   ],
   "source": [
    "pd.set_option('display.max_columns', None)\n",
    "bnb.head()"
   ]
  },
  {
   "cell_type": "code",
   "execution_count": 4,
   "id": "a89d3524",
   "metadata": {},
   "outputs": [
    {
     "name": "stdout",
     "output_type": "stream",
     "text": [
      "<class 'pandas.core.frame.DataFrame'>\n",
      "RangeIndex: 59288 entries, 0 to 59287\n",
      "Data columns (total 29 columns):\n",
      " #   Column                  Non-Null Count  Dtype  \n",
      "---  ------                  --------------  -----  \n",
      " 0   id                      59288 non-null  int64  \n",
      " 1   log_price               59288 non-null  float64\n",
      " 2   property_type           59288 non-null  object \n",
      " 3   room_type               59288 non-null  object \n",
      " 4   amenities               59288 non-null  object \n",
      " 5   accommodates            59288 non-null  int64  \n",
      " 6   bathrooms               59139 non-null  float64\n",
      " 7   bed_type                59288 non-null  object \n",
      " 8   cancellation_policy     59288 non-null  object \n",
      " 9   cleaning_fee            59288 non-null  bool   \n",
      " 10  city                    59288 non-null  object \n",
      " 11  description             59288 non-null  object \n",
      " 12  first_review            46601 non-null  object \n",
      " 13  host_has_profile_pic    59148 non-null  object \n",
      " 14  host_identity_verified  59148 non-null  object \n",
      " 15  host_response_rate      44660 non-null  object \n",
      " 16  host_since              59148 non-null  object \n",
      " 17  instant_bookable        59288 non-null  object \n",
      " 18  last_review             46628 non-null  object \n",
      " 19  latitude                59288 non-null  float64\n",
      " 20  longitude               59288 non-null  float64\n",
      " 21  name                    59288 non-null  object \n",
      " 22  neighbourhood           53765 non-null  object \n",
      " 23  number_of_reviews       59288 non-null  int64  \n",
      " 24  review_scores_rating    45922 non-null  float64\n",
      " 25  thumbnail_url           52666 non-null  object \n",
      " 26  zipcode                 58533 non-null  object \n",
      " 27  bedrooms                59211 non-null  float64\n",
      " 28  beds                    59188 non-null  float64\n",
      "dtypes: bool(1), float64(7), int64(3), object(18)\n",
      "memory usage: 138.7 MB\n"
     ]
    }
   ],
   "source": [
    "bnb.info(memory_usage = \"deep\")"
   ]
  },
  {
   "cell_type": "markdown",
   "id": "075c707e",
   "metadata": {},
   "source": [
    "# Convierto todos los property_type que aparecen menos de 10 veces por \"Other\""
   ]
  },
  {
   "cell_type": "code",
   "execution_count": 5,
   "id": "2cbd749c",
   "metadata": {},
   "outputs": [
    {
     "data": {
      "text/plain": [
       "Apartment             39158\n",
       "House                 13295\n",
       "Condominium            2103\n",
       "Townhouse              1341\n",
       "Loft                    992\n",
       "Other                   469\n",
       "Guesthouse              401\n",
       "Bed & Breakfast         372\n",
       "Bungalow                297\n",
       "Villa                   142\n",
       "Dorm                    106\n",
       "Guest suite              99\n",
       "Camper/RV                80\n",
       "In-law                   62\n",
       "Hostel                   61\n",
       "Timeshare                59\n",
       "Cabin                    58\n",
       "Boutique hotel           57\n",
       "Boat                     49\n",
       "Serviced apartment       17\n",
       "Tent                     15\n",
       "Castle                   11\n",
       "Vacation home            10\n",
       "Yurt                      7\n",
       "Hut                       6\n",
       "Treehouse                 5\n",
       "Earth House               4\n",
       "Tipi                      3\n",
       "Cave                      2\n",
       "Chalet                    2\n",
       "Train                     2\n",
       "Lighthouse                1\n",
       "Casa particular           1\n",
       "Island                    1\n",
       "Name: property_type, dtype: int64"
      ]
     },
     "execution_count": 5,
     "metadata": {},
     "output_type": "execute_result"
    }
   ],
   "source": [
    "prop_counts = bnb['property_type'].value_counts()\n",
    "prop_counts"
   ]
  },
  {
   "cell_type": "code",
   "execution_count": 6,
   "id": "7b0ffef7",
   "metadata": {},
   "outputs": [],
   "source": [
    "# Identificar tipos con recuento menor que 10\n",
    "tipos_a_cambiar = prop_counts[prop_counts < 10].index\n",
    "\n",
    "# Cambiar los valores en la columna property_type\n",
    "bnb['property_type'] = bnb['property_type'].map(lambda x: 'Other' if x in tipos_a_cambiar else x)\n"
   ]
  },
  {
   "cell_type": "markdown",
   "id": "edf9cbf4",
   "metadata": {},
   "source": [
    "# Relleno los valores nulos en la columna bathroom con el promedio de baños para el número de huespedes "
   ]
  },
  {
   "cell_type": "code",
   "execution_count": 7,
   "id": "f60fe0a2",
   "metadata": {},
   "outputs": [],
   "source": [
    "# Calcular el promedio de baños para cada número de acomodates\n",
    "average_bathrooms = bnb.groupby('accommodates')['bathrooms'].transform('mean')\n",
    "\n",
    "# Llenar los valores nulos en la columna 'bathrooms' con los promedios calculados\n",
    "bnb['bathrooms'] = bnb['bathrooms'].fillna(average_bathrooms)\n",
    "bnb['bathrooms'] = bnb['bathrooms'].round(1)"
   ]
  },
  {
   "cell_type": "markdown",
   "id": "bd34c2d4",
   "metadata": {},
   "source": [
    "# Paso la columna cleaning_fee de tipo bool a int"
   ]
  },
  {
   "cell_type": "code",
   "execution_count": 8,
   "id": "98e8f505",
   "metadata": {},
   "outputs": [],
   "source": [
    "bnb['cleaning_fee'] = bnb['cleaning_fee'].astype(int)"
   ]
  },
  {
   "cell_type": "markdown",
   "id": "ddf6fc6e",
   "metadata": {},
   "source": [
    "# Parece que no hay gran diferencia entre tener foto de perfil o estar verificado en el log_price por lo que se van a eliminar esas dos columnas\n"
   ]
  },
  {
   "cell_type": "code",
   "execution_count": 9,
   "id": "f07e3478",
   "metadata": {},
   "outputs": [
    {
     "data": {
      "text/plain": [
       "(4.782476060710248, 4.9516436799328964)"
      ]
     },
     "execution_count": 9,
     "metadata": {},
     "output_type": "execute_result"
    }
   ],
   "source": [
    "bnb[bnb.host_has_profile_pic == \"t\"].log_price.mean() , bnb[bnb.host_has_profile_pic == \"f\"].log_price.mean()"
   ]
  },
  {
   "cell_type": "code",
   "execution_count": 10,
   "id": "e748c905",
   "metadata": {},
   "outputs": [
    {
     "data": {
      "text/plain": [
       "(4.79577355988958, 4.756846320603111)"
      ]
     },
     "execution_count": 10,
     "metadata": {},
     "output_type": "execute_result"
    }
   ],
   "source": [
    "bnb[bnb.host_identity_verified == \"t\"].log_price.mean() , bnb[bnb.host_identity_verified == \"f\"].log_price.mean()"
   ]
  },
  {
   "cell_type": "code",
   "execution_count": 11,
   "id": "a6ed416e",
   "metadata": {},
   "outputs": [],
   "source": [
    "columnas_a_eliminar = ['host_has_profile_pic', 'host_identity_verified']\n",
    "bnb = bnb.drop(columnas_a_eliminar, axis=1)"
   ]
  },
  {
   "cell_type": "markdown",
   "id": "199f8c3a",
   "metadata": {},
   "source": [
    "# Relleno los nulos de la columna host_since por el valor de first_review cuando sea posible, y por la fecha más reciente de host_since cuando first_review sea nulo tambien"
   ]
  },
  {
   "cell_type": "code",
   "execution_count": 12,
   "id": "a865a31d",
   "metadata": {},
   "outputs": [],
   "source": [
    "bnb['host_since'] = bnb['host_since'].fillna(bnb['first_review'])"
   ]
  },
  {
   "cell_type": "code",
   "execution_count": 13,
   "id": "5219defa",
   "metadata": {},
   "outputs": [],
   "source": [
    "bnb['host_since'] = bnb['host_since'].fillna(\"-\")"
   ]
  },
  {
   "cell_type": "code",
   "execution_count": 14,
   "id": "ae43ca66",
   "metadata": {},
   "outputs": [],
   "source": [
    "bnb['host_since'] = bnb['host_since'].replace('-', '2017-10-04')"
   ]
  },
  {
   "cell_type": "code",
   "execution_count": 15,
   "id": "8f5828b6",
   "metadata": {},
   "outputs": [],
   "source": [
    "bnb = bnb.drop(\"first_review\", axis=1)"
   ]
  },
  {
   "cell_type": "code",
   "execution_count": 16,
   "id": "c28ae4e3",
   "metadata": {},
   "outputs": [],
   "source": [
    "bnb['host_response_rate'] = bnb['host_response_rate'].str.rstrip('%').astype('float')\n",
    "\n",
    "# Rellenar los valores nulos con la media\n",
    "media = bnb['host_response_rate'].mean()\n",
    "bnb['host_response_rate'].fillna(media, inplace=True)\n"
   ]
  },
  {
   "cell_type": "code",
   "execution_count": 17,
   "id": "f0f2c363",
   "metadata": {},
   "outputs": [],
   "source": [
    "bnb['host_response_rate'] = bnb['host_response_rate'].astype(int)"
   ]
  },
  {
   "cell_type": "markdown",
   "id": "c836b656",
   "metadata": {},
   "source": [
    "# Cambio la columna instant_bookable a binario"
   ]
  },
  {
   "cell_type": "code",
   "execution_count": 18,
   "id": "b0593c31",
   "metadata": {},
   "outputs": [],
   "source": [
    "bnb['instant_bookable'] = bnb['instant_bookable'].replace('f', 0)\n",
    "bnb['instant_bookable'] = bnb['instant_bookable'].replace('t', 1)"
   ]
  },
  {
   "cell_type": "markdown",
   "id": "a853c365",
   "metadata": {},
   "source": [
    "# Elimino la columna last_review y las columnas latitude y longitude ya que posteriormente voy a tratar de cuantificar la ubicación del alojamiento mediante clusterización de neighbourhood"
   ]
  },
  {
   "cell_type": "code",
   "execution_count": 19,
   "id": "d02e6e88",
   "metadata": {},
   "outputs": [],
   "source": [
    "bnb = bnb.drop(\"last_review\", axis=1)\n"
   ]
  },
  {
   "cell_type": "code",
   "execution_count": 20,
   "id": "07fc91fc",
   "metadata": {},
   "outputs": [
    {
     "data": {
      "text/plain": [
       "5523"
      ]
     },
     "execution_count": 20,
     "metadata": {},
     "output_type": "execute_result"
    }
   ],
   "source": [
    "len(bnb[bnb.neighbourhood.isna()])"
   ]
  },
  {
   "cell_type": "markdown",
   "id": "de994534",
   "metadata": {},
   "source": [
    "# Utilizo el modelo NearestNeighbors para asignar un barrio a aquellos valores nulos en función de las columnas ['latitude', 'longitude']"
   ]
  },
  {
   "cell_type": "code",
   "execution_count": 21,
   "id": "e56729b3",
   "metadata": {},
   "outputs": [],
   "source": [
    "bnb_nulos = bnb[bnb['neighbourhood'].isnull()]\n",
    "\n",
    "# Filtrar las filas sin valores nulos en 'barrio'\n",
    "bnb_no_nulos = bnb.dropna(subset=['neighbourhood'])\n",
    "\n",
    "# Definir el número de vecinos cercanos a considerar\n",
    "num_neighbors = 1\n",
    "\n",
    "# Inicializar el modelo NearestNeighbors\n",
    "neighbors_model = NearestNeighbors(n_neighbors=num_neighbors)\n",
    "\n",
    "# Ajustar el modelo a las coordenadas sin valores nulos en 'barrio'\n",
    "neighbors_model.fit(bnb_no_nulos[['latitude', 'longitude']])\n",
    "\n",
    "# Encontrar los vecinos más cercanos para las filas con valores nulos en 'barrio'\n",
    "distances, indices = neighbors_model.kneighbors(bnb_nulos[['latitude', 'longitude']])\n",
    "\n",
    "# Asociar los valores nulos en 'barrio' con los barrios correspondientes de los vecinos más cercanos\n",
    "bnb.loc[bnb['neighbourhood'].isnull(), 'neighbourhood'] = bnb_no_nulos.iloc[indices[:, 0]]['neighbourhood'].values\n"
   ]
  },
  {
   "cell_type": "code",
   "execution_count": 22,
   "id": "20f65fb7",
   "metadata": {},
   "outputs": [],
   "source": [
    "bnb = bnb.drop(\"thumbnail_url\", axis=1)\n",
    "bnb = bnb.drop(\"zipcode\", axis=1)"
   ]
  },
  {
   "cell_type": "code",
   "execution_count": 23,
   "id": "93c75659",
   "metadata": {},
   "outputs": [],
   "source": [
    "bnb['review_scores_rating'] = bnb['review_scores_rating'].fillna(bnb.review_scores_rating.mean())\n"
   ]
  },
  {
   "cell_type": "markdown",
   "id": "79979ef6",
   "metadata": {},
   "source": [
    "# Relleno los valores nulos en la columna bathroom con el promedio de baños para el número de huespedes "
   ]
  },
  {
   "cell_type": "code",
   "execution_count": 24,
   "id": "53669ddd",
   "metadata": {},
   "outputs": [],
   "source": [
    "average_bedrooms = bnb.groupby('accommodates')['bedrooms'].transform('mean')\n",
    "\n",
    "# Llenar los valores nulos en la columna 'bathrooms' con los promedios calculados\n",
    "bnb['bedrooms'] = bnb['bedrooms'].fillna(average_bedrooms)\n",
    "bnb['bedrooms'] = bnb['bedrooms'].round(1)"
   ]
  },
  {
   "cell_type": "code",
   "execution_count": 25,
   "id": "2d9b804a",
   "metadata": {},
   "outputs": [],
   "source": [
    "bnb['bedrooms'] = bnb['bedrooms'].astype(int)"
   ]
  },
  {
   "cell_type": "code",
   "execution_count": 26,
   "id": "591377cf",
   "metadata": {},
   "outputs": [],
   "source": [
    "bnb['review_scores_rating'] = bnb['review_scores_rating'].astype(int)"
   ]
  },
  {
   "cell_type": "code",
   "execution_count": 27,
   "id": "20fe16ea",
   "metadata": {},
   "outputs": [],
   "source": [
    "bnb = bnb.drop(\"name\", axis=1)\n",
    "bnb = bnb.drop(\"description\", axis=1)"
   ]
  },
  {
   "cell_type": "code",
   "execution_count": 28,
   "id": "44965aaa",
   "metadata": {},
   "outputs": [],
   "source": [
    "average_bedrooms = bnb.groupby('accommodates')['beds'].transform('mean')\n",
    "\n",
    "# Llenar los valores nulos en la columna 'bathrooms' con los promedios calculados\n",
    "bnb['beds'] = bnb['beds'].fillna(average_bedrooms)\n",
    "bnb['beds'] = bnb['beds'].round(1)\n",
    "bnb['beds'] = bnb['beds'].astype(int)"
   ]
  },
  {
   "cell_type": "code",
   "execution_count": 29,
   "id": "eec54172",
   "metadata": {},
   "outputs": [
    {
     "data": {
      "text/plain": [
       "1     36166\n",
       "2     13413\n",
       "3      5139\n",
       "4      2451\n",
       "5      1050\n",
       "6       525\n",
       "7       170\n",
       "8       152\n",
       "10       71\n",
       "9        56\n",
       "16       31\n",
       "12       25\n",
       "11       18\n",
       "13        8\n",
       "15        5\n",
       "0         4\n",
       "14        4\n",
       "Name: beds, dtype: int64"
      ]
     },
     "execution_count": 29,
     "metadata": {},
     "output_type": "execute_result"
    }
   ],
   "source": [
    "bnb['beds'].value_counts()"
   ]
  },
  {
   "cell_type": "markdown",
   "id": "fb411df5",
   "metadata": {},
   "source": [
    "# Utilizo la columna host_since para categorizar la antiguedad del host en 4 categorías"
   ]
  },
  {
   "cell_type": "code",
   "execution_count": 30,
   "id": "0c5a0568",
   "metadata": {},
   "outputs": [],
   "source": [
    "# Convertir la columna 'host_since' a tipo datetime\n",
    "bnb['host_since'] = pd.to_datetime(bnb['host_since'])\n",
    "\n",
    "# 1. Extracción de Año y Mes\n",
    "bnb['host_year'] = bnb['host_since'].dt.year\n",
    "bnb['host_month'] = bnb['host_since'].dt.month\n",
    "\n",
    "# 2. Calcular la Antigüedad en Años\n",
    "bnb['host_age_years'] = (pd.to_datetime('2017-10-04 00:00:00') - bnb['host_since']).dt.days / 365.25\n",
    "\n",
    "# 3. Creación de Categorías por Rangos de Tiempo\n",
    "bins = [0, 1, 2, 5, float('inf')]  # Ajustar los puntos de corte según el rango de fechas\n",
    "labels = ['nuevo', 'poco_experimentado', 'experimentado', 'muy_experimentado']\n",
    "bnb['host_experience'] = pd.cut(bnb['host_age_years'], bins=bins, labels=labels)"
   ]
  },
  {
   "cell_type": "code",
   "execution_count": 31,
   "id": "a8609185",
   "metadata": {},
   "outputs": [
    {
     "data": {
      "text/plain": [
       "experimentado         30893\n",
       "poco_experimentado    11583\n",
       "muy_experimentado     10839\n",
       "nuevo                  5938\n",
       "Name: host_experience, dtype: int64"
      ]
     },
     "execution_count": 31,
     "metadata": {},
     "output_type": "execute_result"
    }
   ],
   "source": [
    "bnb.host_experience.value_counts()"
   ]
  },
  {
   "cell_type": "code",
   "execution_count": 32,
   "id": "b48116a7",
   "metadata": {},
   "outputs": [],
   "source": [
    "columns = ['host_year', 'host_month']\n",
    "bnb = bnb.drop(columns, axis=1)"
   ]
  },
  {
   "cell_type": "code",
   "execution_count": 33,
   "id": "bdbf3a76",
   "metadata": {},
   "outputs": [
    {
     "data": {
      "text/plain": [
       "Williamsburg          2276\n",
       "Bedford-Stuyvesant    1686\n",
       "Mid-Wilshire          1416\n",
       "Hollywood             1319\n",
       "Bushwick              1281\n",
       "                      ... \n",
       "Clifton                  1\n",
       "Presidio                 1\n",
       "Coolidge Corner          1\n",
       "Watertown                1\n",
       "Castleton Corners        1\n",
       "Name: neighbourhood, Length: 611, dtype: int64"
      ]
     },
     "execution_count": 33,
     "metadata": {},
     "output_type": "execute_result"
    }
   ],
   "source": [
    "bnb.neighbourhood.value_counts()"
   ]
  },
  {
   "cell_type": "code",
   "execution_count": 34,
   "id": "742f297d",
   "metadata": {},
   "outputs": [
    {
     "name": "stderr",
     "output_type": "stream",
     "text": [
      "C:\\Users\\daarr\\anaconda3\\Lib\\site-packages\\sklearn\\cluster\\_kmeans.py:1412: FutureWarning: The default value of `n_init` will change from 10 to 'auto' in 1.4. Set the value of `n_init` explicitly to suppress the warning\n",
      "  super()._check_params_vs_input(X, default_n_init=10)\n"
     ]
    }
   ],
   "source": [
    "# Asumiendo que 'log_price' y 'neighbourhood' son columnas relevantes en tu DataFrame\n",
    "X = bnb[['log_price']]\n",
    "\n",
    "# Normaliza los datos\n",
    "scaler = StandardScaler()\n",
    "X_scaled = scaler.fit_transform(X)\n",
    "\n",
    "# Aplica el algoritmo de k-means\n",
    "kmeans = KMeans(n_clusters=8, random_state=42)\n",
    "bnb['Neighbourhood_cluster'] = kmeans.fit_predict(X_scaled)\n",
    "\n",
    "# Obtén los centros de los clusters\n",
    "cluster_centers = kmeans.cluster_centers_\n",
    "\n",
    "# Asigna etiquetas numéricas de menor a mayor log_price\n",
    "cluster_mapping = {cluster: i + 1 for i, cluster in enumerate(cluster_centers.argsort(axis=0)[:, 0])}\n",
    "bnb['Neighbourhood_cluster'] = bnb['Neighbourhood_cluster'].map(cluster_mapping)"
   ]
  },
  {
   "cell_type": "code",
   "execution_count": 35,
   "id": "ee796873",
   "metadata": {},
   "outputs": [
    {
     "data": {
      "image/png": "[encoded data removed]",
      "text/plain": [
       "<Figure size 640x480 with 2 Axes>"
      ]
     },
     "metadata": {},
     "output_type": "display_data"
    }
   ],
   "source": [
    "# Gráfico de dispersión\n",
    "plt.scatter(bnb['neighbourhood'], bnb['log_price'], c=bnb['Neighbourhood_cluster'], cmap='viridis')\n",
    "\n",
    "# Configuración de ejes y etiquetas\n",
    "plt.title('Clusters de Barrios basados en Log_Price')\n",
    "plt.xlabel('Barrio')\n",
    "plt.ylabel('Log_Price')\n",
    "plt.colorbar(label='Cluster')  # Agregamos la barra de color para indicar los clusters\n",
    "\n",
    "# Configuración del límite inferior del eje y\n",
    "plt.ylim(bottom=0)\n",
    "\n",
    "# Mostrar el gráfico\n",
    "plt.show();"
   ]
  },
  {
   "cell_type": "code",
   "execution_count": 36,
   "id": "4e9a0c17",
   "metadata": {},
   "outputs": [],
   "source": [
    "bnb = bnb.drop(\"latitude\", axis=1)\n",
    "bnb = bnb.drop(\"longitude\", axis=1)"
   ]
  },
  {
   "cell_type": "code",
   "execution_count": 37,
   "id": "725f7215",
   "metadata": {},
   "outputs": [
    {
     "data": {
      "text/html": [
       "<div>\n",
       "<style scoped>\n",
       "    .dataframe tbody tr th:only-of-type {\n",
       "        vertical-align: middle;\n",
       "    }\n",
       "\n",
       "    .dataframe tbody tr th {\n",
       "        vertical-align: top;\n",
       "    }\n",
       "\n",
       "    .dataframe thead th {\n",
       "        text-align: right;\n",
       "    }\n",
       "</style>\n",
       "<table border=\"1\" class=\"dataframe\">\n",
       "  <thead>\n",
       "    <tr style=\"text-align: right;\">\n",
       "      <th></th>\n",
       "      <th>id</th>\n",
       "      <th>log_price</th>\n",
       "      <th>property_type</th>\n",
       "      <th>room_type</th>\n",
       "      <th>amenities</th>\n",
       "      <th>accommodates</th>\n",
       "      <th>bathrooms</th>\n",
       "      <th>bed_type</th>\n",
       "      <th>cancellation_policy</th>\n",
       "      <th>cleaning_fee</th>\n",
       "      <th>city</th>\n",
       "      <th>host_response_rate</th>\n",
       "      <th>host_since</th>\n",
       "      <th>instant_bookable</th>\n",
       "      <th>neighbourhood</th>\n",
       "      <th>number_of_reviews</th>\n",
       "      <th>review_scores_rating</th>\n",
       "      <th>bedrooms</th>\n",
       "      <th>beds</th>\n",
       "      <th>host_age_years</th>\n",
       "      <th>host_experience</th>\n",
       "      <th>Neighbourhood_cluster</th>\n",
       "    </tr>\n",
       "  </thead>\n",
       "  <tbody>\n",
       "    <tr>\n",
       "      <th>0</th>\n",
       "      <td>15148661</td>\n",
       "      <td>4.499810</td>\n",
       "      <td>Apartment</td>\n",
       "      <td>Entire home/apt</td>\n",
       "      <td>{TV,Internet,\"Wireless Internet\",\"Air conditio...</td>\n",
       "      <td>2</td>\n",
       "      <td>1.0</td>\n",
       "      <td>Real Bed</td>\n",
       "      <td>flexible</td>\n",
       "      <td>1</td>\n",
       "      <td>NYC</td>\n",
       "      <td>80</td>\n",
       "      <td>2015-11-04</td>\n",
       "      <td>0</td>\n",
       "      <td>Astoria</td>\n",
       "      <td>9</td>\n",
       "      <td>96</td>\n",
       "      <td>1</td>\n",
       "      <td>1</td>\n",
       "      <td>1.916496</td>\n",
       "      <td>poco_experimentado</td>\n",
       "      <td>4</td>\n",
       "    </tr>\n",
       "    <tr>\n",
       "      <th>1</th>\n",
       "      <td>1227528</td>\n",
       "      <td>3.970292</td>\n",
       "      <td>Apartment</td>\n",
       "      <td>Private room</td>\n",
       "      <td>{Internet,\"Wireless Internet\",\"Air conditionin...</td>\n",
       "      <td>2</td>\n",
       "      <td>1.0</td>\n",
       "      <td>Futon</td>\n",
       "      <td>strict</td>\n",
       "      <td>1</td>\n",
       "      <td>NYC</td>\n",
       "      <td>94</td>\n",
       "      <td>2014-08-26</td>\n",
       "      <td>0</td>\n",
       "      <td>Hamilton Heights</td>\n",
       "      <td>8</td>\n",
       "      <td>100</td>\n",
       "      <td>1</td>\n",
       "      <td>1</td>\n",
       "      <td>3.107461</td>\n",
       "      <td>experimentado</td>\n",
       "      <td>2</td>\n",
       "    </tr>\n",
       "    <tr>\n",
       "      <th>2</th>\n",
       "      <td>15692740</td>\n",
       "      <td>4.787492</td>\n",
       "      <td>Apartment</td>\n",
       "      <td>Entire home/apt</td>\n",
       "      <td>{\"Wireless Internet\",\"Air conditioning\",\"Wheel...</td>\n",
       "      <td>4</td>\n",
       "      <td>1.0</td>\n",
       "      <td>Real Bed</td>\n",
       "      <td>moderate</td>\n",
       "      <td>1</td>\n",
       "      <td>NYC</td>\n",
       "      <td>100</td>\n",
       "      <td>2011-01-29</td>\n",
       "      <td>0</td>\n",
       "      <td>Bedford-Stuyvesant</td>\n",
       "      <td>12</td>\n",
       "      <td>100</td>\n",
       "      <td>1</td>\n",
       "      <td>1</td>\n",
       "      <td>6.680356</td>\n",
       "      <td>muy_experimentado</td>\n",
       "      <td>5</td>\n",
       "    </tr>\n",
       "    <tr>\n",
       "      <th>3</th>\n",
       "      <td>19115685</td>\n",
       "      <td>4.700480</td>\n",
       "      <td>Apartment</td>\n",
       "      <td>Entire home/apt</td>\n",
       "      <td>{Internet,\"Wireless Internet\",\"Air conditionin...</td>\n",
       "      <td>3</td>\n",
       "      <td>1.1</td>\n",
       "      <td>Real Bed</td>\n",
       "      <td>moderate</td>\n",
       "      <td>0</td>\n",
       "      <td>NYC</td>\n",
       "      <td>94</td>\n",
       "      <td>2011-10-26</td>\n",
       "      <td>0</td>\n",
       "      <td>Clinton Hill</td>\n",
       "      <td>2</td>\n",
       "      <td>90</td>\n",
       "      <td>1</td>\n",
       "      <td>1</td>\n",
       "      <td>5.941136</td>\n",
       "      <td>muy_experimentado</td>\n",
       "      <td>4</td>\n",
       "    </tr>\n",
       "    <tr>\n",
       "      <th>4</th>\n",
       "      <td>2554110</td>\n",
       "      <td>5.192957</td>\n",
       "      <td>Apartment</td>\n",
       "      <td>Entire home/apt</td>\n",
       "      <td>{TV,\"Wireless Internet\",\"Air conditioning\",Kit...</td>\n",
       "      <td>3</td>\n",
       "      <td>1.0</td>\n",
       "      <td>Real Bed</td>\n",
       "      <td>strict</td>\n",
       "      <td>1</td>\n",
       "      <td>NYC</td>\n",
       "      <td>94</td>\n",
       "      <td>2012-06-21</td>\n",
       "      <td>0</td>\n",
       "      <td>Long Island City</td>\n",
       "      <td>1</td>\n",
       "      <td>80</td>\n",
       "      <td>1</td>\n",
       "      <td>1</td>\n",
       "      <td>5.286790</td>\n",
       "      <td>muy_experimentado</td>\n",
       "      <td>6</td>\n",
       "    </tr>\n",
       "  </tbody>\n",
       "</table>\n",
       "</div>"
      ],
      "text/plain": [
       "         id  log_price property_type        room_type  \\\n",
       "0  15148661   4.499810     Apartment  Entire home/apt   \n",
       "1   1227528   3.970292     Apartment     Private room   \n",
       "2  15692740   4.787492     Apartment  Entire home/apt   \n",
       "3  19115685   4.700480     Apartment  Entire home/apt   \n",
       "4   2554110   5.192957     Apartment  Entire home/apt   \n",
       "\n",
       "                                           amenities  accommodates  bathrooms  \\\n",
       "0  {TV,Internet,\"Wireless Internet\",\"Air conditio...             2        1.0   \n",
       "1  {Internet,\"Wireless Internet\",\"Air conditionin...             2        1.0   \n",
       "2  {\"Wireless Internet\",\"Air conditioning\",\"Wheel...             4        1.0   \n",
       "3  {Internet,\"Wireless Internet\",\"Air conditionin...             3        1.1   \n",
       "4  {TV,\"Wireless Internet\",\"Air conditioning\",Kit...             3        1.0   \n",
       "\n",
       "   bed_type cancellation_policy  cleaning_fee city  host_response_rate  \\\n",
       "0  Real Bed            flexible             1  NYC                  80   \n",
       "1     Futon              strict             1  NYC                  94   \n",
       "2  Real Bed            moderate             1  NYC                 100   \n",
       "3  Real Bed            moderate             0  NYC                  94   \n",
       "4  Real Bed              strict             1  NYC                  94   \n",
       "\n",
       "  host_since  instant_bookable       neighbourhood  number_of_reviews  \\\n",
       "0 2015-11-04                 0             Astoria                  9   \n",
       "1 2014-08-26                 0    Hamilton Heights                  8   \n",
       "2 2011-01-29                 0  Bedford-Stuyvesant                 12   \n",
       "3 2011-10-26                 0        Clinton Hill                  2   \n",
       "4 2012-06-21                 0    Long Island City                  1   \n",
       "\n",
       "   review_scores_rating  bedrooms  beds  host_age_years     host_experience  \\\n",
       "0                    96         1     1        1.916496  poco_experimentado   \n",
       "1                   100         1     1        3.107461       experimentado   \n",
       "2                   100         1     1        6.680356   muy_experimentado   \n",
       "3                    90         1     1        5.941136   muy_experimentado   \n",
       "4                    80         1     1        5.286790   muy_experimentado   \n",
       "\n",
       "   Neighbourhood_cluster  \n",
       "0                      4  \n",
       "1                      2  \n",
       "2                      5  \n",
       "3                      4  \n",
       "4                      6  "
      ]
     },
     "execution_count": 37,
     "metadata": {},
     "output_type": "execute_result"
    }
   ],
   "source": [
    "bnb.head()"
   ]
  },
  {
   "cell_type": "code",
   "execution_count": 38,
   "id": "b4616502",
   "metadata": {},
   "outputs": [],
   "source": [
    "bnb['host_experience'] = bnb['host_experience'].fillna(\"nuevo\")"
   ]
  },
  {
   "cell_type": "code",
   "execution_count": 39,
   "id": "ec70b6fc",
   "metadata": {},
   "outputs": [],
   "source": [
    "columns = [\"host_age_years\",\"host_since\"]\n",
    "bnb = bnb.drop(columns, axis=1)"
   ]
  },
  {
   "cell_type": "code",
   "execution_count": 40,
   "id": "7e1fa51f",
   "metadata": {},
   "outputs": [],
   "source": [
    "bnb.to_csv(\"../data/train_clean.csv\")"
   ]
  },
  {
   "cell_type": "code",
   "execution_count": 41,
   "id": "883dd7a3",
   "metadata": {},
   "outputs": [
    {
     "data": {
      "text/plain": [
       "experimentado         30893\n",
       "poco_experimentado    11583\n",
       "muy_experimentado     10839\n",
       "nuevo                  5973\n",
       "Name: host_experience, dtype: int64"
      ]
     },
     "execution_count": 41,
     "metadata": {},
     "output_type": "execute_result"
    }
   ],
   "source": [
    "bnb.host_experience.value_counts()"
   ]
  },
  {
   "cell_type": "code",
   "execution_count": null,
   "id": "26bd4916",
   "metadata": {},
   "outputs": [],
   "source": []
  },
  {
   "cell_type": "code",
   "execution_count": null,
   "id": "27aa7bf6",
   "metadata": {},
   "outputs": [],
   "source": []
  },
  {
   "cell_type": "code",
   "execution_count": null,
   "id": "28793423",
   "metadata": {},
   "outputs": [],
   "source": []
  },
  {
   "cell_type": "code",
   "execution_count": null,
   "id": "264e5649",
   "metadata": {},
   "outputs": [],
   "source": []
  }
 ],
 "metadata": {
  "kernelspec": {
   "display_name": "Python 3 (ipykernel)",
   "language": "python",
   "name": "python3"
  },
  "language_info": {
   "codemirror_mode": {
    "name": "ipython",
    "version": 3
   },
   "file_extension": ".py",
   "mimetype": "text/x-python",
   "name": "python",
   "nbconvert_exporter": "python",
   "pygments_lexer": "ipython3",
   "version": "3.11.4"
  }
 },
 "nbformat": 4,
 "nbformat_minor": 5
}
