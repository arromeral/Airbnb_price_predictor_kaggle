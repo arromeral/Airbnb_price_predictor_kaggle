{
 "cells": [
  {
   "cell_type": "code",
   "execution_count": 1,
   "id": "f7268f21",
   "metadata": {},
   "outputs": [],
   "source": [
    "import pandas as pd\n",
    "import numpy as np\n",
    "from sklearn.metrics.pairwise import euclidean_distances\n",
    "from scipy.spatial.distance import cdist\n",
    "from sklearn.neighbors import NearestNeighbors\n",
    "from sklearn.cluster import KMeans\n",
    "from sklearn.preprocessing import StandardScaler\n",
    "import matplotlib.pyplot as plt"
   ]
  },
  {
   "cell_type": "code",
   "execution_count": 2,
   "id": "334fb418",
   "metadata": {},
   "outputs": [],
   "source": [
    "bnb = pd.read_csv(\"../data/train.csv\")\n",
    "bnb_test = pd.read_csv(\"../data/test.csv\")\n"
   ]
  },
  {
   "cell_type": "code",
   "execution_count": 3,
   "id": "584e701d",
   "metadata": {},
   "outputs": [],
   "source": [
    "bnb3 = pd.concat([bnb,bnb_test])"
   ]
  },
  {
   "cell_type": "code",
   "execution_count": 4,
   "id": "af602703",
   "metadata": {},
   "outputs": [
    {
     "data": {
      "text/html": [
       "<div>\n",
       "<style scoped>\n",
       "    .dataframe tbody tr th:only-of-type {\n",
       "        vertical-align: middle;\n",
       "    }\n",
       "\n",
       "    .dataframe tbody tr th {\n",
       "        vertical-align: top;\n",
       "    }\n",
       "\n",
       "    .dataframe thead th {\n",
       "        text-align: right;\n",
       "    }\n",
       "</style>\n",
       "<table border=\"1\" class=\"dataframe\">\n",
       "  <thead>\n",
       "    <tr style=\"text-align: right;\">\n",
       "      <th></th>\n",
       "      <th>id</th>\n",
       "      <th>log_price</th>\n",
       "      <th>property_type</th>\n",
       "      <th>room_type</th>\n",
       "      <th>amenities</th>\n",
       "      <th>accommodates</th>\n",
       "      <th>bathrooms</th>\n",
       "      <th>bed_type</th>\n",
       "      <th>cancellation_policy</th>\n",
       "      <th>cleaning_fee</th>\n",
       "      <th>city</th>\n",
       "      <th>description</th>\n",
       "      <th>first_review</th>\n",
       "      <th>host_has_profile_pic</th>\n",
       "      <th>host_identity_verified</th>\n",
       "      <th>host_response_rate</th>\n",
       "      <th>host_since</th>\n",
       "      <th>instant_bookable</th>\n",
       "      <th>last_review</th>\n",
       "      <th>latitude</th>\n",
       "      <th>longitude</th>\n",
       "      <th>name</th>\n",
       "      <th>neighbourhood</th>\n",
       "      <th>number_of_reviews</th>\n",
       "      <th>review_scores_rating</th>\n",
       "      <th>thumbnail_url</th>\n",
       "      <th>zipcode</th>\n",
       "      <th>bedrooms</th>\n",
       "      <th>beds</th>\n",
       "    </tr>\n",
       "  </thead>\n",
       "  <tbody>\n",
       "    <tr>\n",
       "      <th>0</th>\n",
       "      <td>15148661</td>\n",
       "      <td>4.499810</td>\n",
       "      <td>Apartment</td>\n",
       "      <td>Entire home/apt</td>\n",
       "      <td>{TV,Internet,\"Wireless Internet\",\"Air conditio...</td>\n",
       "      <td>2</td>\n",
       "      <td>1.0</td>\n",
       "      <td>Real Bed</td>\n",
       "      <td>flexible</td>\n",
       "      <td>True</td>\n",
       "      <td>NYC</td>\n",
       "      <td>A great spacious apartment in an awesome and c...</td>\n",
       "      <td>2016-07-25</td>\n",
       "      <td>t</td>\n",
       "      <td>t</td>\n",
       "      <td>80%</td>\n",
       "      <td>2015-11-04</td>\n",
       "      <td>f</td>\n",
       "      <td>2017-09-10</td>\n",
       "      <td>40.757349</td>\n",
       "      <td>-73.921339</td>\n",
       "      <td>Sunny Spacious Apt in Astoria w/ back yard access</td>\n",
       "      <td>Astoria</td>\n",
       "      <td>9</td>\n",
       "      <td>96.0</td>\n",
       "      <td>https://a0.muscache.com/im/pictures/3e40924b-7...</td>\n",
       "      <td>11101</td>\n",
       "      <td>1.0</td>\n",
       "      <td>1.0</td>\n",
       "    </tr>\n",
       "    <tr>\n",
       "      <th>1</th>\n",
       "      <td>1227528</td>\n",
       "      <td>3.970292</td>\n",
       "      <td>Apartment</td>\n",
       "      <td>Private room</td>\n",
       "      <td>{Internet,\"Wireless Internet\",\"Air conditionin...</td>\n",
       "      <td>2</td>\n",
       "      <td>1.0</td>\n",
       "      <td>Futon</td>\n",
       "      <td>strict</td>\n",
       "      <td>True</td>\n",
       "      <td>NYC</td>\n",
       "      <td>Newly Renovated Two Bedroom Apartment in Hamil...</td>\n",
       "      <td>2016-09-01</td>\n",
       "      <td>t</td>\n",
       "      <td>t</td>\n",
       "      <td>NaN</td>\n",
       "      <td>2014-08-26</td>\n",
       "      <td>f</td>\n",
       "      <td>2017-01-05</td>\n",
       "      <td>40.823556</td>\n",
       "      <td>-73.954573</td>\n",
       "      <td>Manhattan Sunny Private Room</td>\n",
       "      <td>Hamilton Heights</td>\n",
       "      <td>8</td>\n",
       "      <td>100.0</td>\n",
       "      <td>https://a0.muscache.com/im/pictures/2953dddd-0...</td>\n",
       "      <td>10031</td>\n",
       "      <td>1.0</td>\n",
       "      <td>1.0</td>\n",
       "    </tr>\n",
       "    <tr>\n",
       "      <th>2</th>\n",
       "      <td>15692740</td>\n",
       "      <td>4.787492</td>\n",
       "      <td>Apartment</td>\n",
       "      <td>Entire home/apt</td>\n",
       "      <td>{\"Wireless Internet\",\"Air conditioning\",\"Wheel...</td>\n",
       "      <td>4</td>\n",
       "      <td>1.0</td>\n",
       "      <td>Real Bed</td>\n",
       "      <td>moderate</td>\n",
       "      <td>True</td>\n",
       "      <td>NYC</td>\n",
       "      <td>One bedroom, one bathroom apartment, with an o...</td>\n",
       "      <td>2016-01-05</td>\n",
       "      <td>t</td>\n",
       "      <td>t</td>\n",
       "      <td>100%</td>\n",
       "      <td>2011-01-29</td>\n",
       "      <td>f</td>\n",
       "      <td>2017-09-27</td>\n",
       "      <td>40.689306</td>\n",
       "      <td>-73.955478</td>\n",
       "      <td>Sweet Apartment on Quiet Block</td>\n",
       "      <td>Bedford-Stuyvesant</td>\n",
       "      <td>12</td>\n",
       "      <td>100.0</td>\n",
       "      <td>NaN</td>\n",
       "      <td>11205</td>\n",
       "      <td>1.0</td>\n",
       "      <td>1.0</td>\n",
       "    </tr>\n",
       "    <tr>\n",
       "      <th>3</th>\n",
       "      <td>19115685</td>\n",
       "      <td>4.700480</td>\n",
       "      <td>Apartment</td>\n",
       "      <td>Entire home/apt</td>\n",
       "      <td>{Internet,\"Wireless Internet\",\"Air conditionin...</td>\n",
       "      <td>3</td>\n",
       "      <td>NaN</td>\n",
       "      <td>Real Bed</td>\n",
       "      <td>moderate</td>\n",
       "      <td>False</td>\n",
       "      <td>NYC</td>\n",
       "      <td>Comfy, art- and book-filled one-bedroom apartm...</td>\n",
       "      <td>2014-01-06</td>\n",
       "      <td>t</td>\n",
       "      <td>f</td>\n",
       "      <td>NaN</td>\n",
       "      <td>2011-10-26</td>\n",
       "      <td>f</td>\n",
       "      <td>2014-01-13</td>\n",
       "      <td>40.681965</td>\n",
       "      <td>-73.965490</td>\n",
       "      <td>Husband &amp; Wife Art-Filled Apartment</td>\n",
       "      <td>Clinton Hill</td>\n",
       "      <td>2</td>\n",
       "      <td>90.0</td>\n",
       "      <td>https://a0.muscache.com/im/pictures/81766960/b...</td>\n",
       "      <td>11238.0</td>\n",
       "      <td>1.0</td>\n",
       "      <td>1.0</td>\n",
       "    </tr>\n",
       "    <tr>\n",
       "      <th>4</th>\n",
       "      <td>2554110</td>\n",
       "      <td>5.192957</td>\n",
       "      <td>Apartment</td>\n",
       "      <td>Entire home/apt</td>\n",
       "      <td>{TV,\"Wireless Internet\",\"Air conditioning\",Kit...</td>\n",
       "      <td>3</td>\n",
       "      <td>1.0</td>\n",
       "      <td>Real Bed</td>\n",
       "      <td>strict</td>\n",
       "      <td>True</td>\n",
       "      <td>NYC</td>\n",
       "      <td>1br/1ba. Spacious living room with plenty of s...</td>\n",
       "      <td>2016-05-20</td>\n",
       "      <td>t</td>\n",
       "      <td>f</td>\n",
       "      <td>NaN</td>\n",
       "      <td>2012-06-21</td>\n",
       "      <td>f</td>\n",
       "      <td>2016-05-20</td>\n",
       "      <td>40.742842</td>\n",
       "      <td>-73.957554</td>\n",
       "      <td>Luxurious 1 Bedroom Apt!</td>\n",
       "      <td>Long Island City</td>\n",
       "      <td>1</td>\n",
       "      <td>80.0</td>\n",
       "      <td>https://a0.muscache.com/im/pictures/0ed6ee9e-6...</td>\n",
       "      <td>11101</td>\n",
       "      <td>1.0</td>\n",
       "      <td>1.0</td>\n",
       "    </tr>\n",
       "  </tbody>\n",
       "</table>\n",
       "</div>"
      ],
      "text/plain": [
       "         id  log_price property_type        room_type  \\\n",
       "0  15148661   4.499810     Apartment  Entire home/apt   \n",
       "1   1227528   3.970292     Apartment     Private room   \n",
       "2  15692740   4.787492     Apartment  Entire home/apt   \n",
       "3  19115685   4.700480     Apartment  Entire home/apt   \n",
       "4   2554110   5.192957     Apartment  Entire home/apt   \n",
       "\n",
       "                                           amenities  accommodates  bathrooms  \\\n",
       "0  {TV,Internet,\"Wireless Internet\",\"Air conditio...             2        1.0   \n",
       "1  {Internet,\"Wireless Internet\",\"Air conditionin...             2        1.0   \n",
       "2  {\"Wireless Internet\",\"Air conditioning\",\"Wheel...             4        1.0   \n",
       "3  {Internet,\"Wireless Internet\",\"Air conditionin...             3        NaN   \n",
       "4  {TV,\"Wireless Internet\",\"Air conditioning\",Kit...             3        1.0   \n",
       "\n",
       "   bed_type cancellation_policy  cleaning_fee city  \\\n",
       "0  Real Bed            flexible          True  NYC   \n",
       "1     Futon              strict          True  NYC   \n",
       "2  Real Bed            moderate          True  NYC   \n",
       "3  Real Bed            moderate         False  NYC   \n",
       "4  Real Bed              strict          True  NYC   \n",
       "\n",
       "                                         description first_review  \\\n",
       "0  A great spacious apartment in an awesome and c...   2016-07-25   \n",
       "1  Newly Renovated Two Bedroom Apartment in Hamil...   2016-09-01   \n",
       "2  One bedroom, one bathroom apartment, with an o...   2016-01-05   \n",
       "3  Comfy, art- and book-filled one-bedroom apartm...   2014-01-06   \n",
       "4  1br/1ba. Spacious living room with plenty of s...   2016-05-20   \n",
       "\n",
       "  host_has_profile_pic host_identity_verified host_response_rate  host_since  \\\n",
       "0                    t                      t                80%  2015-11-04   \n",
       "1                    t                      t                NaN  2014-08-26   \n",
       "2                    t                      t               100%  2011-01-29   \n",
       "3                    t                      f                NaN  2011-10-26   \n",
       "4                    t                      f                NaN  2012-06-21   \n",
       "\n",
       "  instant_bookable last_review   latitude  longitude  \\\n",
       "0                f  2017-09-10  40.757349 -73.921339   \n",
       "1                f  2017-01-05  40.823556 -73.954573   \n",
       "2                f  2017-09-27  40.689306 -73.955478   \n",
       "3                f  2014-01-13  40.681965 -73.965490   \n",
       "4                f  2016-05-20  40.742842 -73.957554   \n",
       "\n",
       "                                                name       neighbourhood  \\\n",
       "0  Sunny Spacious Apt in Astoria w/ back yard access             Astoria   \n",
       "1                       Manhattan Sunny Private Room    Hamilton Heights   \n",
       "2                     Sweet Apartment on Quiet Block  Bedford-Stuyvesant   \n",
       "3                Husband & Wife Art-Filled Apartment        Clinton Hill   \n",
       "4                           Luxurious 1 Bedroom Apt!    Long Island City   \n",
       "\n",
       "   number_of_reviews  review_scores_rating  \\\n",
       "0                  9                  96.0   \n",
       "1                  8                 100.0   \n",
       "2                 12                 100.0   \n",
       "3                  2                  90.0   \n",
       "4                  1                  80.0   \n",
       "\n",
       "                                       thumbnail_url  zipcode  bedrooms  beds  \n",
       "0  https://a0.muscache.com/im/pictures/3e40924b-7...    11101       1.0   1.0  \n",
       "1  https://a0.muscache.com/im/pictures/2953dddd-0...    10031       1.0   1.0  \n",
       "2                                                NaN    11205       1.0   1.0  \n",
       "3  https://a0.muscache.com/im/pictures/81766960/b...  11238.0       1.0   1.0  \n",
       "4  https://a0.muscache.com/im/pictures/0ed6ee9e-6...    11101       1.0   1.0  "
      ]
     },
     "execution_count": 4,
     "metadata": {},
     "output_type": "execute_result"
    }
   ],
   "source": [
    "pd.set_option('display.max_columns', None)\n",
    "bnb3.head()"
   ]
  },
  {
   "cell_type": "code",
   "execution_count": 5,
   "id": "a89d3524",
   "metadata": {},
   "outputs": [
    {
     "name": "stdout",
     "output_type": "stream",
     "text": [
      "<class 'pandas.core.frame.DataFrame'>\n",
      "Int64Index: 74111 entries, 0 to 14822\n",
      "Data columns (total 29 columns):\n",
      " #   Column                  Non-Null Count  Dtype  \n",
      "---  ------                  --------------  -----  \n",
      " 0   id                      74111 non-null  int64  \n",
      " 1   log_price               59288 non-null  float64\n",
      " 2   property_type           74111 non-null  object \n",
      " 3   room_type               74111 non-null  object \n",
      " 4   amenities               74111 non-null  object \n",
      " 5   accommodates            74111 non-null  int64  \n",
      " 6   bathrooms               73911 non-null  float64\n",
      " 7   bed_type                74111 non-null  object \n",
      " 8   cancellation_policy     74111 non-null  object \n",
      " 9   cleaning_fee            74111 non-null  bool   \n",
      " 10  city                    74111 non-null  object \n",
      " 11  description             74111 non-null  object \n",
      " 12  first_review            58247 non-null  object \n",
      " 13  host_has_profile_pic    73923 non-null  object \n",
      " 14  host_identity_verified  73923 non-null  object \n",
      " 15  host_response_rate      55812 non-null  object \n",
      " 16  host_since              73923 non-null  object \n",
      " 17  instant_bookable        74111 non-null  object \n",
      " 18  last_review             58284 non-null  object \n",
      " 19  latitude                74111 non-null  float64\n",
      " 20  longitude               74111 non-null  float64\n",
      " 21  name                    74111 non-null  object \n",
      " 22  neighbourhood           67239 non-null  object \n",
      " 23  number_of_reviews       74111 non-null  int64  \n",
      " 24  review_scores_rating    57389 non-null  float64\n",
      " 25  thumbnail_url           65895 non-null  object \n",
      " 26  zipcode                 73145 non-null  object \n",
      " 27  bedrooms                74020 non-null  float64\n",
      " 28  beds                    73980 non-null  float64\n",
      "dtypes: bool(1), float64(7), int64(3), object(18)\n",
      "memory usage: 173.9 MB\n"
     ]
    }
   ],
   "source": [
    "bnb3.info(memory_usage = \"deep\")"
   ]
  },
  {
   "cell_type": "markdown",
   "id": "075c707e",
   "metadata": {},
   "source": [
    "# Convierto todos los property_type que aparecen menos de 10 veces por \"Other\""
   ]
  },
  {
   "cell_type": "code",
   "execution_count": 6,
   "id": "7b0ffef7",
   "metadata": {},
   "outputs": [],
   "source": [
    "prop_counts = bnb3['property_type'].value_counts()\n",
    "\n",
    "# Identificar tipos con recuento menor que 10\n",
    "tipos_a_cambiar = prop_counts[prop_counts < 10].index\n",
    "\n",
    "# Cambiar los valores en la columna property_type\n",
    "bnb3['property_type'] = bnb3['property_type'].map(lambda x: 'Other' if x in tipos_a_cambiar else x)\n"
   ]
  },
  {
   "cell_type": "markdown",
   "id": "edf9cbf4",
   "metadata": {},
   "source": [
    "# Relleno los valores nulos en la columna bathroom con el promedio de baños para el número de huespedes "
   ]
  },
  {
   "cell_type": "code",
   "execution_count": 7,
   "id": "f60fe0a2",
   "metadata": {},
   "outputs": [],
   "source": [
    "# Calcular el promedio de baños para cada número de acomodates\n",
    "average_bathrooms = bnb3.groupby('accommodates')['bathrooms'].transform('mean')\n",
    "\n",
    "# Llenar los valores nulos en la columna 'bathrooms' con los promedios calculados\n",
    "bnb3['bathrooms'] = bnb3['bathrooms'].fillna(average_bathrooms)\n",
    "bnb3['bathrooms'] = bnb3['bathrooms'].round(1)"
   ]
  },
  {
   "cell_type": "markdown",
   "id": "bd34c2d4",
   "metadata": {},
   "source": [
    "# Paso la columna cleaning_fee de tipo bool a int"
   ]
  },
  {
   "cell_type": "code",
   "execution_count": 8,
   "id": "98e8f505",
   "metadata": {},
   "outputs": [],
   "source": [
    "bnb3['cleaning_fee'] = bnb3['cleaning_fee'].astype(int)"
   ]
  },
  {
   "cell_type": "markdown",
   "id": "ddf6fc6e",
   "metadata": {},
   "source": [
    "# Parece que no hay gran diferencia entre tener foto de perfil o estar verificado en el log_price por lo que se van a eliminar esas dos columnas\n"
   ]
  },
  {
   "cell_type": "code",
   "execution_count": 9,
   "id": "a6ed416e",
   "metadata": {},
   "outputs": [],
   "source": [
    "columnas_a_eliminar = ['host_has_profile_pic', 'host_identity_verified']\n",
    "bnb3 = bnb3.drop(columnas_a_eliminar, axis=1)"
   ]
  },
  {
   "cell_type": "markdown",
   "id": "199f8c3a",
   "metadata": {},
   "source": [
    "# Relleno los nulos de la columna host_since por el valor de first_review cuando sea posible, y por la fecha más reciente de host_since cuando first_review sea nulo tambien"
   ]
  },
  {
   "cell_type": "code",
   "execution_count": 10,
   "id": "a865a31d",
   "metadata": {},
   "outputs": [],
   "source": [
    "bnb3['host_since'] = bnb3['host_since'].fillna(bnb3['first_review'])"
   ]
  },
  {
   "cell_type": "code",
   "execution_count": 11,
   "id": "5219defa",
   "metadata": {},
   "outputs": [],
   "source": [
    "bnb3['host_since'] = bnb3['host_since'].fillna(\"-\")"
   ]
  },
  {
   "cell_type": "code",
   "execution_count": 12,
   "id": "ae43ca66",
   "metadata": {},
   "outputs": [],
   "source": [
    "bnb3['host_since'] = bnb3['host_since'].replace('-', '2017-10-04')"
   ]
  },
  {
   "cell_type": "code",
   "execution_count": 13,
   "id": "8f5828b6",
   "metadata": {},
   "outputs": [],
   "source": [
    "bnb3 = bnb3.drop(\"first_review\", axis=1)"
   ]
  },
  {
   "cell_type": "code",
   "execution_count": 14,
   "id": "c28ae4e3",
   "metadata": {},
   "outputs": [],
   "source": [
    "bnb3['host_response_rate'] = bnb3['host_response_rate'].str.rstrip('%').astype('float')\n",
    "\n",
    "# Rellenar los valores nulos con la media\n",
    "media = bnb3['host_response_rate'].mean()\n",
    "bnb3['host_response_rate'].fillna(media, inplace=True)\n"
   ]
  },
  {
   "cell_type": "code",
   "execution_count": 15,
   "id": "f0f2c363",
   "metadata": {},
   "outputs": [],
   "source": [
    "bnb3['host_response_rate'] = bnb3['host_response_rate'].astype(int)"
   ]
  },
  {
   "cell_type": "markdown",
   "id": "c836b656",
   "metadata": {},
   "source": [
    "# Cambio la columna instant_bookable a binario"
   ]
  },
  {
   "cell_type": "code",
   "execution_count": 16,
   "id": "b0593c31",
   "metadata": {},
   "outputs": [],
   "source": [
    "bnb3['instant_bookable'] = bnb3['instant_bookable'].replace('f', 0)\n",
    "bnb3['instant_bookable'] = bnb3['instant_bookable'].replace('t', 1)"
   ]
  },
  {
   "cell_type": "markdown",
   "id": "a853c365",
   "metadata": {},
   "source": [
    "# Elimino la columna last_review y las columnas latitude y longitude ya que posteriormente voy a tratar de cuantificar la ubicación del alojamiento mediante clusterización de neighbourhood"
   ]
  },
  {
   "cell_type": "code",
   "execution_count": 17,
   "id": "d02e6e88",
   "metadata": {},
   "outputs": [],
   "source": [
    "bnb3 = bnb3.drop(\"last_review\", axis=1)\n"
   ]
  },
  {
   "cell_type": "code",
   "execution_count": 18,
   "id": "07fc91fc",
   "metadata": {},
   "outputs": [
    {
     "data": {
      "text/plain": [
       "6872"
      ]
     },
     "execution_count": 18,
     "metadata": {},
     "output_type": "execute_result"
    }
   ],
   "source": [
    "len(bnb3[bnb3.neighbourhood.isna()])"
   ]
  },
  {
   "cell_type": "markdown",
   "id": "de994534",
   "metadata": {},
   "source": [
    "# Utilizo el modelo NearestNeighbors para asignar un barrio a aquellos valores nulos en función de las columnas ['latitude', 'longitude']"
   ]
  },
  {
   "cell_type": "code",
   "execution_count": 19,
   "id": "e56729b3",
   "metadata": {},
   "outputs": [],
   "source": [
    "bnb_nulos = bnb3[bnb3['neighbourhood'].isnull()]\n",
    "\n",
    "# Filtrar las filas sin valores nulos en 'barrio'\n",
    "bnb_no_nulos = bnb3.dropna(subset=['neighbourhood'])\n",
    "\n",
    "# Definir el número de vecinos cercanos a considerar\n",
    "num_neighbors = 1\n",
    "\n",
    "# Inicializar el modelo NearestNeighbors\n",
    "neighbors_model = NearestNeighbors(n_neighbors=num_neighbors)\n",
    "\n",
    "# Ajustar el modelo a las coordenadas sin valores nulos en 'barrio'\n",
    "neighbors_model.fit(bnb_no_nulos[['latitude', 'longitude']])\n",
    "\n",
    "# Encontrar los vecinos más cercanos para las filas con valores nulos en 'barrio'\n",
    "distances, indices = neighbors_model.kneighbors(bnb_nulos[['latitude', 'longitude']])\n",
    "\n",
    "# Asociar los valores nulos en 'barrio' con los barrios correspondientes de los vecinos más cercanos\n",
    "bnb3.loc[bnb3['neighbourhood'].isnull(), 'neighbourhood'] = bnb_no_nulos.iloc[indices[:, 0]]['neighbourhood'].values\n"
   ]
  },
  {
   "cell_type": "code",
   "execution_count": 20,
   "id": "20f65fb7",
   "metadata": {},
   "outputs": [],
   "source": [
    "bnb3 = bnb3.drop(\"thumbnail_url\", axis=1)\n",
    "bnb3 = bnb3.drop(\"zipcode\", axis=1)"
   ]
  },
  {
   "cell_type": "code",
   "execution_count": 21,
   "id": "93c75659",
   "metadata": {},
   "outputs": [],
   "source": [
    "bnb3['review_scores_rating'] = bnb3['review_scores_rating'].fillna(bnb3.review_scores_rating.mean())\n"
   ]
  },
  {
   "cell_type": "markdown",
   "id": "79979ef6",
   "metadata": {},
   "source": [
    "# Relleno los valores nulos en la columna bathroom con el promedio de baños para el número de huespedes "
   ]
  },
  {
   "cell_type": "code",
   "execution_count": 22,
   "id": "53669ddd",
   "metadata": {},
   "outputs": [],
   "source": [
    "average_bedrooms = bnb3.groupby('accommodates')['bedrooms'].transform('mean')\n",
    "\n",
    "# Llenar los valores nulos en la columna 'bathrooms' con los promedios calculados\n",
    "bnb3['bedrooms'] = bnb3['bedrooms'].fillna(average_bedrooms)\n",
    "bnb3['bedrooms'] = bnb3['bedrooms'].round(1)"
   ]
  },
  {
   "cell_type": "code",
   "execution_count": 23,
   "id": "2d9b804a",
   "metadata": {},
   "outputs": [],
   "source": [
    "bnb3['bedrooms'] = bnb3['bedrooms'].astype(int)"
   ]
  },
  {
   "cell_type": "code",
   "execution_count": 24,
   "id": "591377cf",
   "metadata": {},
   "outputs": [],
   "source": [
    "bnb3['review_scores_rating'] = bnb3['review_scores_rating'].astype(int)"
   ]
  },
  {
   "cell_type": "code",
   "execution_count": 25,
   "id": "20fe16ea",
   "metadata": {},
   "outputs": [],
   "source": [
    "bnb3 = bnb3.drop(\"name\", axis=1)\n",
    "bnb3 = bnb3.drop(\"description\", axis=1)"
   ]
  },
  {
   "cell_type": "code",
   "execution_count": 26,
   "id": "44965aaa",
   "metadata": {},
   "outputs": [],
   "source": [
    "average_bedrooms = bnb3.groupby('accommodates')['beds'].transform('mean')\n",
    "\n",
    "# Llenar los valores nulos en la columna 'bathrooms' con los promedios calculados\n",
    "bnb3['beds'] = bnb3['beds'].fillna(average_bedrooms)\n",
    "bnb3['beds'] = bnb3['beds'].round(1)\n",
    "bnb3['beds'] = bnb3['beds'].astype(int)"
   ]
  },
  {
   "cell_type": "code",
   "execution_count": 27,
   "id": "eec54172",
   "metadata": {},
   "outputs": [
    {
     "data": {
      "text/plain": [
       "1     45265\n",
       "2     16708\n",
       "3      6445\n",
       "4      3066\n",
       "5      1287\n",
       "6       661\n",
       "7       218\n",
       "8       186\n",
       "10       88\n",
       "9        72\n",
       "16       38\n",
       "12       29\n",
       "11       23\n",
       "13       10\n",
       "15        6\n",
       "0         4\n",
       "14        4\n",
       "18        1\n",
       "Name: beds, dtype: int64"
      ]
     },
     "execution_count": 27,
     "metadata": {},
     "output_type": "execute_result"
    }
   ],
   "source": [
    "bnb3['beds'].value_counts()"
   ]
  },
  {
   "cell_type": "markdown",
   "id": "fb411df5",
   "metadata": {},
   "source": [
    "# Utilizo la columna host_since para categorizar la antiguedad del host en 4 categorías"
   ]
  },
  {
   "cell_type": "code",
   "execution_count": 28,
   "id": "0c5a0568",
   "metadata": {},
   "outputs": [],
   "source": [
    "# Convertir la columna 'host_since' a tipo datetime\n",
    "bnb3['host_since'] = pd.to_datetime(bnb3['host_since'])\n",
    "\n",
    "# 1. Extracción de Año y Mes\n",
    "bnb3['host_year'] = bnb3['host_since'].dt.year\n",
    "bnb3['host_month'] = bnb3['host_since'].dt.month\n",
    "\n",
    "# 2. Calcular la Antigüedad en Años\n",
    "bnb3['host_age_years'] = (pd.to_datetime('2017-10-04 00:00:00') - bnb3['host_since']).dt.days / 365.25\n",
    "\n",
    "# 3. Creación de Categorías por Rangos de Tiempo\n",
    "bins = [0, 1, 2, 10, float('inf')]  # Ajustar los puntos de corte según el rango de fechas\n",
    "labels = ['nuevo', 'poco_experimentado', 'experimentado', 'muy_experimentado']\n",
    "bnb3['host_experience'] = pd.cut(bnb3['host_age_years'], bins=bins, labels=labels)"
   ]
  },
  {
   "cell_type": "code",
   "execution_count": 29,
   "id": "a8609185",
   "metadata": {},
   "outputs": [
    {
     "data": {
      "text/plain": [
       "experimentado         52053\n",
       "poco_experimentado    14540\n",
       "nuevo                  7474\n",
       "muy_experimentado         0\n",
       "Name: host_experience, dtype: int64"
      ]
     },
     "execution_count": 29,
     "metadata": {},
     "output_type": "execute_result"
    }
   ],
   "source": [
    "bnb3.host_experience.value_counts()"
   ]
  },
  {
   "cell_type": "code",
   "execution_count": 30,
   "id": "b48116a7",
   "metadata": {},
   "outputs": [],
   "source": [
    "columns = ['host_year', 'host_month']\n",
    "bnb3 = bnb3.drop(columns, axis=1)"
   ]
  },
  {
   "cell_type": "code",
   "execution_count": 31,
   "id": "bdbf3a76",
   "metadata": {},
   "outputs": [
    {
     "data": {
      "text/plain": [
       "Williamsburg          2862\n",
       "Bedford-Stuyvesant    2166\n",
       "Mid-Wilshire          1789\n",
       "Hollywood             1636\n",
       "Bushwick              1601\n",
       "                      ... \n",
       "Rolling Hills            1\n",
       "Coolidge Corner          1\n",
       "Barry Farm               1\n",
       "Newton                   1\n",
       "Observatory Circle       1\n",
       "Name: neighbourhood, Length: 619, dtype: int64"
      ]
     },
     "execution_count": 31,
     "metadata": {},
     "output_type": "execute_result"
    }
   ],
   "source": [
    "bnb3.neighbourhood.value_counts()"
   ]
  },
  {
   "cell_type": "code",
   "execution_count": 32,
   "id": "434e9b8d",
   "metadata": {},
   "outputs": [],
   "source": [
    "bnb4 = bnb3[bnb3.log_price.isna()]"
   ]
  },
  {
   "cell_type": "code",
   "execution_count": 37,
   "id": "d9efe99a",
   "metadata": {},
   "outputs": [],
   "source": [
    "bnb3 =bnb3[bnb3.log_price.notna()]"
   ]
  },
  {
   "cell_type": "code",
   "execution_count": 41,
   "id": "742f297d",
   "metadata": {},
   "outputs": [
    {
     "name": "stderr",
     "output_type": "stream",
     "text": [
      "C:\\Users\\daarr\\anaconda3\\Lib\\site-packages\\sklearn\\cluster\\_kmeans.py:1412: FutureWarning: The default value of `n_init` will change from 10 to 'auto' in 1.4. Set the value of `n_init` explicitly to suppress the warning\n",
      "  super()._check_params_vs_input(X, default_n_init=10)\n",
      "C:\\Users\\daarr\\AppData\\Local\\Temp\\ipykernel_44144\\677941875.py:10: SettingWithCopyWarning: \n",
      "A value is trying to be set on a copy of a slice from a DataFrame.\n",
      "Try using .loc[row_indexer,col_indexer] = value instead\n",
      "\n",
      "See the caveats in the documentation: https://pandas.pydata.org/pandas-docs/stable/user_guide/indexing.html#returning-a-view-versus-a-copy\n",
      "  bnb3['Neighbourhood_cluster'] = kmeans.fit_predict(X_scaled)\n"
     ]
    }
   ],
   "source": [
    "# Asumiendo que 'log_price' y 'neighbourhood' son columnas relevantes en tu DataFrame\n",
    "X = bnb3[['log_price']]\n",
    "\n",
    "# Normaliza los datos\n",
    "scaler = StandardScaler()\n",
    "X_scaled = scaler.fit_transform(X)\n",
    "\n",
    "# Aplica el algoritmo de k-means\n",
    "kmeans = KMeans(n_clusters=5, random_state=42)\n",
    "bnb3['Neighbourhood_cluster'] = kmeans.fit_predict(X_scaled)"
   ]
  },
  {
   "cell_type": "code",
   "execution_count": 44,
   "id": "ee796873",
   "metadata": {},
   "outputs": [
    {
     "data": {
      "image/png": "[encoded data removed]",
      "text/plain": [
       "<Figure size 640x480 with 1 Axes>"
      ]
     },
     "metadata": {},
     "output_type": "display_data"
    }
   ],
   "source": [
    "plt.scatter(bnb3['neighbourhood'], bnb3['log_price'], c=bnb3['Neighbourhood_cluster'], cmap='viridis')\n",
    "plt.title('Clusters de Barrios basados en Log_Price')\n",
    "plt.xlabel('Neighbourhood')\n",
    "plt.ylabel('Log_Price')\n",
    "plt.show();"
   ]
  },
  {
   "cell_type": "code",
   "execution_count": 45,
   "id": "75cdc715",
   "metadata": {},
   "outputs": [],
   "source": [
    "bnb3 = pd.concat([bnb3,bnb4])"
   ]
  },
  {
   "cell_type": "code",
   "execution_count": 50,
   "id": "672b0397",
   "metadata": {},
   "outputs": [],
   "source": [
    "barrio_cluster_mapping = bnb3.groupby('neighbourhood')['Neighbourhood_cluster'].apply(lambda x: x.mode().iat[0] if not x.mode().empty else None).to_dict()\n",
    "\n",
    "# Llenar los valores nulos usando el diccionario\n",
    "bnb3['Neighbourhood_cluster'] = bnb3['neighbourhood'].map(barrio_cluster_mapping).fillna(bnb3['Neighbourhood_cluster'])\n"
   ]
  },
  {
   "cell_type": "code",
   "execution_count": 55,
   "id": "b2914281",
   "metadata": {},
   "outputs": [],
   "source": [
    "bnb3['Neighbourhood_cluster'] = bnb3['Neighbourhood_cluster'].fillna(3)"
   ]
  },
  {
   "cell_type": "code",
   "execution_count": 57,
   "id": "4e9a0c17",
   "metadata": {},
   "outputs": [],
   "source": [
    "bnb3 = bnb3.drop(\"latitude\", axis=1)\n",
    "bnb3 = bnb3.drop(\"longitude\", axis=1)"
   ]
  },
  {
   "cell_type": "code",
   "execution_count": 58,
   "id": "b4616502",
   "metadata": {},
   "outputs": [],
   "source": [
    "bnb3['host_experience'] = bnb3['host_experience'].fillna(\"nuevo\")"
   ]
  },
  {
   "cell_type": "code",
   "execution_count": 59,
   "id": "5594e9f5",
   "metadata": {},
   "outputs": [],
   "source": [
    "columns = [\"host_age_years\",\"host_since\"]\n",
    "bnb3 = bnb3.drop(columns, axis=1)"
   ]
  },
  {
   "cell_type": "code",
   "execution_count": 61,
   "id": "49dc1e01",
   "metadata": {},
   "outputs": [],
   "source": [
    "bnb4 = bnb3[bnb3.log_price.isna()]"
   ]
  },
  {
   "cell_type": "code",
   "execution_count": 62,
   "id": "e1c49071",
   "metadata": {},
   "outputs": [],
   "source": [
    "bnb4 = bnb4.drop(\"log_price\", axis=1)"
   ]
  },
  {
   "cell_type": "code",
   "execution_count": 63,
   "id": "f9bf160a",
   "metadata": {},
   "outputs": [
    {
     "name": "stdout",
     "output_type": "stream",
     "text": [
      "<class 'pandas.core.frame.DataFrame'>\n",
      "Int64Index: 14823 entries, 0 to 14822\n",
      "Data columns (total 19 columns):\n",
      " #   Column                 Non-Null Count  Dtype   \n",
      "---  ------                 --------------  -----   \n",
      " 0   id                     14823 non-null  int64   \n",
      " 1   property_type          14823 non-null  object  \n",
      " 2   room_type              14823 non-null  object  \n",
      " 3   amenities              14823 non-null  object  \n",
      " 4   accommodates           14823 non-null  int64   \n",
      " 5   bathrooms              14823 non-null  float64 \n",
      " 6   bed_type               14823 non-null  object  \n",
      " 7   cancellation_policy    14823 non-null  object  \n",
      " 8   cleaning_fee           14823 non-null  int32   \n",
      " 9   city                   14823 non-null  object  \n",
      " 10  host_response_rate     14823 non-null  int32   \n",
      " 11  instant_bookable       14823 non-null  int64   \n",
      " 12  neighbourhood          14823 non-null  object  \n",
      " 13  number_of_reviews      14823 non-null  int64   \n",
      " 14  review_scores_rating   14823 non-null  int32   \n",
      " 15  bedrooms               14823 non-null  int32   \n",
      " 16  beds                   14823 non-null  int32   \n",
      " 17  host_experience        14823 non-null  category\n",
      " 18  Neighbourhood_cluster  14823 non-null  float64 \n",
      "dtypes: category(1), float64(2), int32(5), int64(4), object(7)\n",
      "memory usage: 11.4 MB\n"
     ]
    }
   ],
   "source": [
    "bnb4.info(memory_usage = \"deep\")"
   ]
  },
  {
   "cell_type": "code",
   "execution_count": 64,
   "id": "b3bf9800",
   "metadata": {},
   "outputs": [],
   "source": [
    "bnb4.to_csv(\"../data/test_clean.csv\", index=False)"
   ]
  },
  {
   "cell_type": "code",
   "execution_count": null,
   "id": "2faca7aa",
   "metadata": {},
   "outputs": [],
   "source": []
  },
  {
   "cell_type": "code",
   "execution_count": null,
   "id": "7e1fa51f",
   "metadata": {},
   "outputs": [],
   "source": []
  },
  {
   "cell_type": "code",
   "execution_count": null,
   "id": "883dd7a3",
   "metadata": {},
   "outputs": [],
   "source": []
  },
  {
   "cell_type": "code",
   "execution_count": null,
   "id": "26bd4916",
   "metadata": {},
   "outputs": [],
   "source": []
  },
  {
   "cell_type": "code",
   "execution_count": null,
   "id": "27aa7bf6",
   "metadata": {},
   "outputs": [],
   "source": []
  },
  {
   "cell_type": "code",
   "execution_count": null,
   "id": "28793423",
   "metadata": {},
   "outputs": [],
   "source": []
  },
  {
   "cell_type": "code",
   "execution_count": null,
   "id": "264e5649",
   "metadata": {},
   "outputs": [],
   "source": []
  }
 ],
 "metadata": {
  "kernelspec": {
   "display_name": "Python 3 (ipykernel)",
   "language": "python",
   "name": "python3"
  },
  "language_info": {
   "codemirror_mode": {
    "name": "ipython",
    "version": 3
   },
   "file_extension": ".py",
   "mimetype": "text/x-python",
   "name": "python",
   "nbconvert_exporter": "python",
   "pygments_lexer": "ipython3",
   "version": "3.11.4"
  }
 },
 "nbformat": 4,
 "nbformat_minor": 5
}
