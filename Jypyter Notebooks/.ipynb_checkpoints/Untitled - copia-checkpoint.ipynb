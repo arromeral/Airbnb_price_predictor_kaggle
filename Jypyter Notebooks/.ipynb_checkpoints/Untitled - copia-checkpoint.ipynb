{
 "cells": [
  {
   "cell_type": "code",
   "execution_count": null,
   "id": "caddf379",
   "metadata": {},
   "outputs": [],
   "source": [
    "# %pip install h2o"
   ]
  },
  {
   "cell_type": "code",
   "execution_count": 1,
   "id": "662be69f",
   "metadata": {},
   "outputs": [],
   "source": [
    "import pandas as pd\n",
    "import numpy as np\n",
    "import matplotlib.pyplot as plt\n",
    "import seaborn as sns\n",
    "from sklearn.model_selection import train_test_split as tts\n",
    "from sklearn.preprocessing import StandardScaler\n",
    "from sklearn.metrics import mean_squared_error as mse\n",
    "from sklearn.linear_model import LinearRegression, Ridge, Lasso\n",
    "from sklearn.tree import DecisionTreeRegressor\n",
    "from sklearn.ensemble import RandomForestRegressor as RFR, GradientBoostingRegressor as GBR, AdaBoostRegressor, BaggingRegressor\n",
    "from sklearn.svm import SVR\n",
    "from sklearn.neighbors import KNeighborsRegressor\n",
    "from sklearn.neural_network import MLPRegressor\n",
    "from sklearn.linear_model import BayesianRidge, ElasticNet\n",
    "from sklearn.kernel_ridge import KernelRidge\n",
    "from catboost import CatBoostRegressor as CBR"
   ]
  },
  {
   "cell_type": "code",
   "execution_count": 2,
   "id": "7665a50b",
   "metadata": {},
   "outputs": [],
   "source": [
    "from sklearn.model_selection import GridSearchCV  \n",
    "import xgboost as xgb\n",
    "from xgboost import XGBRegressor\n",
    "from scipy.optimize import minimize\n",
    "from scipy.optimize import differential_evolution\n",
    "from sklearn.preprocessing import LabelEncoder, OrdinalEncoder\n",
    "from hyperopt import fmin, hp, tpe, Trials, space_eval, STATUS_OK\n",
    "from lightgbm import LGBMRegressor as LGBMR\n",
    "import h2o\n",
    "\n",
    "from h2o.automl import H2OAutoML"
   ]
  },
  {
   "cell_type": "code",
   "execution_count": 3,
   "id": "150044ca",
   "metadata": {},
   "outputs": [],
   "source": [
    "# bnb2 = pd.read_csv(\"../data/train_clean4.csv\")\n",
    "# bnb3 = pd.read_csv(\"../data/test_clean2.csv\")\n",
    "train = pd.read_csv(\"../data/train_clean4.csv\")\n",
    "test = pd.read_csv(\"../data/test_clean2.csv\")\n"
   ]
  },
  {
   "cell_type": "code",
   "execution_count": 4,
   "id": "2d77c757",
   "metadata": {},
   "outputs": [
    {
     "name": "stdout",
     "output_type": "stream",
     "text": [
      "Checking whether there is an H2O instance running at http://localhost:54321..... not found.\n",
      "Attempting to start a local H2O server...\n"
     ]
    },
    {
     "ename": "H2OStartupError",
     "evalue": "Cannot find Java. Please install the latest JRE from\nhttp://docs.h2o.ai/h2o/latest-stable/h2o-docs/welcome.html#java-requirements",
     "output_type": "error",
     "traceback": [
      "\u001b[1;31m---------------------------------------------------------------------------\u001b[0m",
      "\u001b[1;31mH2OConnectionError\u001b[0m                        Traceback (most recent call last)",
      "File \u001b[1;32m~\\anaconda3\\Lib\\site-packages\\h2o\\h2o.py:269\u001b[0m, in \u001b[0;36minit\u001b[1;34m(url, ip, port, name, https, cacert, insecure, username, password, cookies, proxy, start_h2o, nthreads, ice_root, log_dir, log_level, max_log_file_size, enable_assertions, max_mem_size, min_mem_size, strict_version_check, ignore_config, extra_classpath, jvm_custom_args, bind_to_localhost, verbose, **kwargs)\u001b[0m\n\u001b[0;32m    268\u001b[0m \u001b[38;5;28;01mtry\u001b[39;00m:\n\u001b[1;32m--> 269\u001b[0m     h2oconn \u001b[38;5;241m=\u001b[39m H2OConnection\u001b[38;5;241m.\u001b[39mopen(url\u001b[38;5;241m=\u001b[39murl, ip\u001b[38;5;241m=\u001b[39mip, port\u001b[38;5;241m=\u001b[39mport, name\u001b[38;5;241m=\u001b[39mname, https\u001b[38;5;241m=\u001b[39mhttps,\n\u001b[0;32m    270\u001b[0m                                  verify_ssl_certificates\u001b[38;5;241m=\u001b[39mverify_ssl_certificates, cacert\u001b[38;5;241m=\u001b[39mcacert,\n\u001b[0;32m    271\u001b[0m                                  auth\u001b[38;5;241m=\u001b[39mauth, proxy\u001b[38;5;241m=\u001b[39mproxy, cookies\u001b[38;5;241m=\u001b[39mcookies, verbose\u001b[38;5;241m=\u001b[39mverbose,\n\u001b[0;32m    272\u001b[0m                                  msgs\u001b[38;5;241m=\u001b[39m(\u001b[38;5;124m\"\u001b[39m\u001b[38;5;124mChecking whether there is an H2O instance running at \u001b[39m\u001b[38;5;132;01m{url}\u001b[39;00m\u001b[38;5;124m\"\u001b[39m,\n\u001b[0;32m    273\u001b[0m                                        \u001b[38;5;124m\"\u001b[39m\u001b[38;5;124mconnected.\u001b[39m\u001b[38;5;124m\"\u001b[39m, \u001b[38;5;124m\"\u001b[39m\u001b[38;5;124mnot found.\u001b[39m\u001b[38;5;124m\"\u001b[39m),\n\u001b[0;32m    274\u001b[0m                                  strict_version_check\u001b[38;5;241m=\u001b[39msvc)\n\u001b[0;32m    275\u001b[0m \u001b[38;5;28;01mexcept\u001b[39;00m H2OConnectionError:\n\u001b[0;32m    276\u001b[0m     \u001b[38;5;66;03m# Backward compatibility: in init() port parameter really meant \"baseport\" when starting a local server...\u001b[39;00m\n",
      "File \u001b[1;32m~\\anaconda3\\Lib\\site-packages\\h2o\\backend\\connection.py:406\u001b[0m, in \u001b[0;36mH2OConnection.open\u001b[1;34m(server, url, ip, port, name, https, auth, verify_ssl_certificates, cacert, proxy, cookies, verbose, msgs, strict_version_check)\u001b[0m\n\u001b[0;32m    405\u001b[0m conn\u001b[38;5;241m.\u001b[39m_timeout \u001b[38;5;241m=\u001b[39m \u001b[38;5;241m3.0\u001b[39m\n\u001b[1;32m--> 406\u001b[0m conn\u001b[38;5;241m.\u001b[39m_cluster \u001b[38;5;241m=\u001b[39m conn\u001b[38;5;241m.\u001b[39m_test_connection(retries, messages\u001b[38;5;241m=\u001b[39mmsgs)\n\u001b[0;32m    407\u001b[0m \u001b[38;5;66;03m# If a server is unable to respond within 1s, it should be considered a bug. However we disable this\u001b[39;00m\n\u001b[0;32m    408\u001b[0m \u001b[38;5;66;03m# setting for now, for no good reason other than to ignore all those bugs :(\u001b[39;00m\n",
      "File \u001b[1;32m~\\anaconda3\\Lib\\site-packages\\h2o\\backend\\connection.py:713\u001b[0m, in \u001b[0;36mH2OConnection._test_connection\u001b[1;34m(self, max_retries, messages)\u001b[0m\n\u001b[0;32m    712\u001b[0m \u001b[38;5;28;01melse\u001b[39;00m:\n\u001b[1;32m--> 713\u001b[0m     \u001b[38;5;28;01mraise\u001b[39;00m H2OConnectionError(\u001b[38;5;124m\"\u001b[39m\u001b[38;5;124mCould not establish link to the H2O cloud \u001b[39m\u001b[38;5;132;01m%s\u001b[39;00m\u001b[38;5;124m after \u001b[39m\u001b[38;5;132;01m%d\u001b[39;00m\u001b[38;5;124m retries\u001b[39m\u001b[38;5;130;01m\\n\u001b[39;00m\u001b[38;5;132;01m%s\u001b[39;00m\u001b[38;5;124m\"\u001b[39m\n\u001b[0;32m    714\u001b[0m                              \u001b[38;5;241m%\u001b[39m (\u001b[38;5;28mself\u001b[39m\u001b[38;5;241m.\u001b[39m_base_url, max_retries, \u001b[38;5;124m\"\u001b[39m\u001b[38;5;130;01m\\n\u001b[39;00m\u001b[38;5;124m\"\u001b[39m\u001b[38;5;241m.\u001b[39mjoin(errors)))\n",
      "\u001b[1;31mH2OConnectionError\u001b[0m: Could not establish link to the H2O cloud http://localhost:54321 after 5 retries\n[36:52.09] H2OConnectionError: Unexpected HTTP error: HTTPConnectionPool(host='localhost', port=54321): Max retries exceeded with url: /3/Metadata/schemas/CloudV3 (Caused by NewConnectionError('<urllib3.connection.HTTPConnection object at 0x000002649BEAA010>: Failed to establish a new connection: [WinError 10061] No se puede establecer una conexión ya que el equipo de destino denegó expresamente dicha conexión'))\n[36:56.35] H2OConnectionError: Unexpected HTTP error: HTTPConnectionPool(host='localhost', port=54321): Max retries exceeded with url: /3/Metadata/schemas/CloudV3 (Caused by NewConnectionError('<urllib3.connection.HTTPConnection object at 0x00000264A226C6D0>: Failed to establish a new connection: [WinError 10061] No se puede establecer una conexión ya que el equipo de destino denegó expresamente dicha conexión'))\n[37:00.64] H2OConnectionError: Unexpected HTTP error: HTTPConnectionPool(host='localhost', port=54321): Max retries exceeded with url: /3/Metadata/schemas/CloudV3 (Caused by NewConnectionError('<urllib3.connection.HTTPConnection object at 0x00000264A226E450>: Failed to establish a new connection: [WinError 10061] No se puede establecer una conexión ya que el equipo de destino denegó expresamente dicha conexión'))\n[37:04.90] H2OConnectionError: Unexpected HTTP error: HTTPConnectionPool(host='localhost', port=54321): Max retries exceeded with url: /3/Metadata/schemas/CloudV3 (Caused by NewConnectionError('<urllib3.connection.HTTPConnection object at 0x00000264A227C350>: Failed to establish a new connection: [WinError 10061] No se puede establecer una conexión ya que el equipo de destino denegó expresamente dicha conexión'))\n[37:09.16] H2OConnectionError: Unexpected HTTP error: HTTPConnectionPool(host='localhost', port=54321): Max retries exceeded with url: /3/Metadata/schemas/CloudV3 (Caused by NewConnectionError('<urllib3.connection.HTTPConnection object at 0x00000264A227E610>: Failed to establish a new connection: [WinError 10061] No se puede establecer una conexión ya que el equipo de destino denegó expresamente dicha conexión'))",
      "\nDuring handling of the above exception, another exception occurred:\n",
      "\u001b[1;31mH2OStartupError\u001b[0m                           Traceback (most recent call last)",
      "Cell \u001b[1;32mIn[4], line 1\u001b[0m\n\u001b[1;32m----> 1\u001b[0m h2o\u001b[38;5;241m.\u001b[39minit()\n",
      "File \u001b[1;32m~\\anaconda3\\Lib\\site-packages\\h2o\\h2o.py:286\u001b[0m, in \u001b[0;36minit\u001b[1;34m(url, ip, port, name, https, cacert, insecure, username, password, cookies, proxy, start_h2o, nthreads, ice_root, log_dir, log_level, max_log_file_size, enable_assertions, max_mem_size, min_mem_size, strict_version_check, ignore_config, extra_classpath, jvm_custom_args, bind_to_localhost, verbose, **kwargs)\u001b[0m\n\u001b[0;32m    282\u001b[0m     \u001b[38;5;28;01mif\u001b[39;00m https:\n\u001b[0;32m    283\u001b[0m         \u001b[38;5;28;01mraise\u001b[39;00m H2OConnectionError(\u001b[38;5;124m'\u001b[39m\u001b[38;5;124mStarting local server is not available with https enabled. You may start local\u001b[39m\u001b[38;5;124m'\u001b[39m\n\u001b[0;32m    284\u001b[0m                                  \u001b[38;5;124m'\u001b[39m\u001b[38;5;124m instance of H2O with https manually \u001b[39m\u001b[38;5;124m'\u001b[39m\n\u001b[0;32m    285\u001b[0m                                  \u001b[38;5;124m'\u001b[39m\u001b[38;5;124m(https://docs.h2o.ai/h2o/latest-stable/h2o-docs/welcome.html#new-user-quick-start).\u001b[39m\u001b[38;5;124m'\u001b[39m)\n\u001b[1;32m--> 286\u001b[0m     hs \u001b[38;5;241m=\u001b[39m H2OLocalServer\u001b[38;5;241m.\u001b[39mstart(nthreads\u001b[38;5;241m=\u001b[39mnthreads, enable_assertions\u001b[38;5;241m=\u001b[39menable_assertions, max_mem_size\u001b[38;5;241m=\u001b[39mmmax,\n\u001b[0;32m    287\u001b[0m                               min_mem_size\u001b[38;5;241m=\u001b[39mmmin, ice_root\u001b[38;5;241m=\u001b[39mice_root, log_dir\u001b[38;5;241m=\u001b[39mlog_dir, log_level\u001b[38;5;241m=\u001b[39mlog_level,\n\u001b[0;32m    288\u001b[0m                               max_log_file_size\u001b[38;5;241m=\u001b[39mmax_log_file_size, port\u001b[38;5;241m=\u001b[39mport, name\u001b[38;5;241m=\u001b[39mname,\n\u001b[0;32m    289\u001b[0m                               extra_classpath\u001b[38;5;241m=\u001b[39mextra_classpath, jvm_custom_args\u001b[38;5;241m=\u001b[39mjvm_custom_args,\n\u001b[0;32m    290\u001b[0m                               bind_to_localhost\u001b[38;5;241m=\u001b[39mbind_to_localhost,verbose\u001b[38;5;241m=\u001b[39mverbose)\n\u001b[0;32m    291\u001b[0m     h2oconn \u001b[38;5;241m=\u001b[39m H2OConnection\u001b[38;5;241m.\u001b[39mopen(server\u001b[38;5;241m=\u001b[39mhs, https\u001b[38;5;241m=\u001b[39mhttps, verify_ssl_certificates\u001b[38;5;241m=\u001b[39mverify_ssl_certificates,\n\u001b[0;32m    292\u001b[0m                                  cacert\u001b[38;5;241m=\u001b[39mcacert, auth\u001b[38;5;241m=\u001b[39mauth, proxy\u001b[38;5;241m=\u001b[39mproxy, cookies\u001b[38;5;241m=\u001b[39mcookies, verbose\u001b[38;5;241m=\u001b[39mverbose,\n\u001b[0;32m    293\u001b[0m                                  strict_version_check\u001b[38;5;241m=\u001b[39msvc)\n\u001b[0;32m    294\u001b[0m h2oconn\u001b[38;5;241m.\u001b[39mcluster\u001b[38;5;241m.\u001b[39mtimezone \u001b[38;5;241m=\u001b[39m \u001b[38;5;124m\"\u001b[39m\u001b[38;5;124mUTC\u001b[39m\u001b[38;5;124m\"\u001b[39m\n",
      "File \u001b[1;32m~\\anaconda3\\Lib\\site-packages\\h2o\\backend\\server.py:139\u001b[0m, in \u001b[0;36mH2OLocalServer.start\u001b[1;34m(jar_path, nthreads, enable_assertions, max_mem_size, min_mem_size, ice_root, log_dir, log_level, max_log_file_size, port, name, extra_classpath, verbose, jvm_custom_args, bind_to_localhost)\u001b[0m\n\u001b[0;32m    136\u001b[0m     hs\u001b[38;5;241m.\u001b[39m_tempdir \u001b[38;5;241m=\u001b[39m hs\u001b[38;5;241m.\u001b[39m_ice_root\n\u001b[0;32m    138\u001b[0m \u001b[38;5;28;01mif\u001b[39;00m verbose: \u001b[38;5;28mprint\u001b[39m(\u001b[38;5;124m\"\u001b[39m\u001b[38;5;124mAttempting to start a local H2O server...\u001b[39m\u001b[38;5;124m\"\u001b[39m)\n\u001b[1;32m--> 139\u001b[0m hs\u001b[38;5;241m.\u001b[39m_launch_server(port\u001b[38;5;241m=\u001b[39mport, baseport\u001b[38;5;241m=\u001b[39mbaseport, nthreads\u001b[38;5;241m=\u001b[39m\u001b[38;5;28mint\u001b[39m(nthreads), ea\u001b[38;5;241m=\u001b[39menable_assertions,\n\u001b[0;32m    140\u001b[0m                   mmax\u001b[38;5;241m=\u001b[39mmax_mem_size, mmin\u001b[38;5;241m=\u001b[39mmin_mem_size, jvm_custom_args\u001b[38;5;241m=\u001b[39mjvm_custom_args,\n\u001b[0;32m    141\u001b[0m                   bind_to_localhost\u001b[38;5;241m=\u001b[39mbind_to_localhost, log_dir\u001b[38;5;241m=\u001b[39mlog_dir, log_level\u001b[38;5;241m=\u001b[39mlog_level, max_log_file_size\u001b[38;5;241m=\u001b[39mmax_log_file_size)\n\u001b[0;32m    142\u001b[0m \u001b[38;5;28;01mif\u001b[39;00m verbose: \u001b[38;5;28mprint\u001b[39m(\u001b[38;5;124m\"\u001b[39m\u001b[38;5;124m  Server is running at \u001b[39m\u001b[38;5;132;01m%s\u001b[39;00m\u001b[38;5;124m://\u001b[39m\u001b[38;5;132;01m%s\u001b[39;00m\u001b[38;5;124m:\u001b[39m\u001b[38;5;132;01m%d\u001b[39;00m\u001b[38;5;124m\"\u001b[39m \u001b[38;5;241m%\u001b[39m (hs\u001b[38;5;241m.\u001b[39mscheme, hs\u001b[38;5;241m.\u001b[39mip, hs\u001b[38;5;241m.\u001b[39mport))\n\u001b[0;32m    143\u001b[0m atexit\u001b[38;5;241m.\u001b[39mregister(\u001b[38;5;28;01mlambda\u001b[39;00m: hs\u001b[38;5;241m.\u001b[39mshutdown())\n",
      "File \u001b[1;32m~\\anaconda3\\Lib\\site-packages\\h2o\\backend\\server.py:271\u001b[0m, in \u001b[0;36mH2OLocalServer._launch_server\u001b[1;34m(self, port, baseport, mmax, mmin, ea, nthreads, jvm_custom_args, bind_to_localhost, log_dir, log_level, max_log_file_size)\u001b[0m\n\u001b[0;32m    268\u001b[0m \u001b[38;5;28mself\u001b[39m\u001b[38;5;241m.\u001b[39m_ip \u001b[38;5;241m=\u001b[39m \u001b[38;5;124m\"\u001b[39m\u001b[38;5;124m127.0.0.1\u001b[39m\u001b[38;5;124m\"\u001b[39m\n\u001b[0;32m    270\u001b[0m \u001b[38;5;66;03m# Find Java and check version. (Note that subprocess.check_output returns the output as a bytes object)\u001b[39;00m\n\u001b[1;32m--> 271\u001b[0m java \u001b[38;5;241m=\u001b[39m \u001b[38;5;28mself\u001b[39m\u001b[38;5;241m.\u001b[39m_find_java()\n\u001b[0;32m    272\u001b[0m \u001b[38;5;28mself\u001b[39m\u001b[38;5;241m.\u001b[39m_check_java(java, \u001b[38;5;28mself\u001b[39m\u001b[38;5;241m.\u001b[39m_verbose)\n\u001b[0;32m    274\u001b[0m \u001b[38;5;28;01mif\u001b[39;00m \u001b[38;5;28mself\u001b[39m\u001b[38;5;241m.\u001b[39m_verbose:\n",
      "File \u001b[1;32m~\\anaconda3\\Lib\\site-packages\\h2o\\backend\\server.py:443\u001b[0m, in \u001b[0;36mH2OLocalServer._find_java\u001b[1;34m()\u001b[0m\n\u001b[0;32m    440\u001b[0m                 \u001b[38;5;28;01mreturn\u001b[39;00m os\u001b[38;5;241m.\u001b[39mpath\u001b[38;5;241m.\u001b[39mjoin(dirpath, java)\n\u001b[0;32m    442\u001b[0m \u001b[38;5;66;03m# not found...\u001b[39;00m\n\u001b[1;32m--> 443\u001b[0m \u001b[38;5;28;01mraise\u001b[39;00m H2OStartupError(\u001b[38;5;124m\"\u001b[39m\u001b[38;5;124mCannot find Java. Please install the latest JRE from\u001b[39m\u001b[38;5;130;01m\\n\u001b[39;00m\u001b[38;5;124m\"\u001b[39m\n\u001b[0;32m    444\u001b[0m                       \u001b[38;5;124m\"\u001b[39m\u001b[38;5;124mhttp://docs.h2o.ai/h2o/latest-stable/h2o-docs/welcome.html#java-requirements\u001b[39m\u001b[38;5;124m\"\u001b[39m)\n",
      "\u001b[1;31mH2OStartupError\u001b[0m: Cannot find Java. Please install the latest JRE from\nhttp://docs.h2o.ai/h2o/latest-stable/h2o-docs/welcome.html#java-requirements"
     ]
    }
   ],
   "source": [
    "h2o.init()"
   ]
  },
  {
   "cell_type": "code",
   "execution_count": null,
   "id": "87399d52",
   "metadata": {},
   "outputs": [],
   "source": [
    "h2train = h2o.H2OFrame(train)\n",
    "\n",
    "h2test = h2o.H2OFrame(test)"
   ]
  },
  {
   "cell_type": "code",
   "execution_count": null,
   "id": "23346b8f",
   "metadata": {},
   "outputs": [],
   "source": [
    "y = 'price'\n",
    "\n",
    "X = [c for c in h2train.columns if c != 'price']"
   ]
  },
  {
   "cell_type": "code",
   "execution_count": null,
   "id": "a2e8eeec",
   "metadata": {},
   "outputs": [],
   "source": []
  },
  {
   "cell_type": "code",
   "execution_count": null,
   "id": "ac564b9a",
   "metadata": {},
   "outputs": [],
   "source": []
  },
  {
   "cell_type": "code",
   "execution_count": null,
   "id": "ad7f69b2",
   "metadata": {},
   "outputs": [],
   "source": []
  },
  {
   "cell_type": "code",
   "execution_count": null,
   "id": "a6e6d2c5",
   "metadata": {},
   "outputs": [],
   "source": []
  },
  {
   "cell_type": "code",
   "execution_count": null,
   "id": "a224276c",
   "metadata": {},
   "outputs": [],
   "source": []
  },
  {
   "cell_type": "code",
   "execution_count": null,
   "id": "bb6f6ce9",
   "metadata": {},
   "outputs": [],
   "source": []
  },
  {
   "cell_type": "code",
   "execution_count": null,
   "id": "42e2f553",
   "metadata": {},
   "outputs": [],
   "source": [
    "# bnb3[\"log_price\"] = 0"
   ]
  },
  {
   "cell_type": "code",
   "execution_count": null,
   "id": "2dce9954",
   "metadata": {},
   "outputs": [],
   "source": [
    "# cols = ['log_price', 'property_type', 'room_type',\n",
    "#        'accommodates', 'bathrooms', 'bed_type', 'cancellation_policy',\n",
    "#        'cleaning_fee', 'city',\n",
    "#        'bedrooms', 'host_experience', 'Neighbourhood_cluster']\n",
    "\n",
    "cols = ['property_type','log_price', 'room_type',\n",
    "       'accommodates', 'bathrooms', 'cancellation_policy',\n",
    "        'city','bedrooms', 'host_experience', 'neighbourhood_cluster', 'jacuzzi', 'fireplace', \n",
    "        'luxury', 'penthouse']\n",
    "\n",
    "bnb2 = bnb2[cols]\n",
    "bnb3 = bnb3[cols]"
   ]
  },
  {
   "cell_type": "code",
   "execution_count": null,
   "id": "34e306bc",
   "metadata": {},
   "outputs": [],
   "source": [
    "\n",
    "# bnb2 = pd.get_dummies(bnb2, columns=['property_type','room_type','bed_type','cancellation_policy','city','host_experience'], drop_first=True)\n",
    "# bnb3 = pd.get_dummies(bnb3, columns=['property_type','room_type','bed_type','cancellation_policy','city','host_experience'], drop_first=True)\n",
    "bnb2 = pd.get_dummies(bnb2, columns=['cancellation_policy','room_type','city','host_experience','property_type'], drop_first=True)\n",
    "\n",
    "bnb3 = pd.get_dummies(bnb3, columns=['cancellation_policy','room_type','city','host_experience','property_type'], drop_first=True)\n"
   ]
  },
  {
   "cell_type": "code",
   "execution_count": null,
   "id": "bce01204",
   "metadata": {},
   "outputs": [],
   "source": [
    "X_train = bnb2.drop('log_price', axis=1)\n",
    "\n",
    "y_train = bnb2.log_price\n",
    "\n",
    "X_test = bnb3.drop('log_price', axis=1)\n",
    "\n",
    "y_test= bnb3.log_price"
   ]
  },
  {
   "cell_type": "code",
   "execution_count": null,
   "id": "499575e7",
   "metadata": {},
   "outputs": [],
   "source": [
    "X_train.shape, X_test.shape, y_train.shape, y_test.shape"
   ]
  },
  {
   "cell_type": "code",
   "execution_count": null,
   "id": "cf05988e",
   "metadata": {},
   "outputs": [],
   "source": [
    "escalador = StandardScaler()    # inicia el normalizador\n",
    " \n",
    "escalador.fit(X_train[['accommodates', 'bathrooms','bedrooms']])   # ajusta segun train, saca media y std\n",
    " \n",
    "X_train[['accommodates', 'bathrooms','bedrooms']] = escalador.fit_transform(X_train[['accommodates', 'bathrooms','bedrooms']])   # transforma train"
   ]
  },
  {
   "cell_type": "code",
   "execution_count": null,
   "id": "018cc66f",
   "metadata": {},
   "outputs": [],
   "source": [
    "X_test[['accommodates', 'bathrooms','bedrooms']] = escalador.transform(X_test[['accommodates', 'bathrooms','bedrooms']])  # transforma test"
   ]
  },
  {
   "cell_type": "code",
   "execution_count": null,
   "id": "02b69673",
   "metadata": {},
   "outputs": [],
   "source": [
    "X_train.head()"
   ]
  },
  {
   "cell_type": "code",
   "execution_count": null,
   "id": "2dd41427",
   "metadata": {},
   "outputs": [],
   "source": [
    "X_test.head()"
   ]
  },
  {
   "cell_type": "code",
   "execution_count": null,
   "id": "f81a3779",
   "metadata": {},
   "outputs": [],
   "source": [
    "cbr = CBR( depth = 8, iterations= 500, learning_rate= 0.05)    # inicia el modelo\n",
    "\n",
    "\n",
    "cbr.fit(X_train, y_train)   # entrena el modelo"
   ]
  },
  {
   "cell_type": "code",
   "execution_count": null,
   "id": "30eb6b09",
   "metadata": {},
   "outputs": [],
   "source": [
    "lgbmr = LGBMR(colsample_bytree=0.8, learning_rate=0.1, max_depth=5, n_estimators=200, subsample=0.8,force_row_wise=True, n_jobs=8)\n",
    "lgbmr.fit(X_train, y_train) "
   ]
  },
  {
   "cell_type": "code",
   "execution_count": null,
   "id": "dddae8b9",
   "metadata": {},
   "outputs": [],
   "source": [
    "# rfr = RFR(max_depth= 10, n_estimators= 150)\n",
    "\n",
    "# rfr.fit(X_train, y_train)"
   ]
  },
  {
   "cell_type": "code",
   "execution_count": null,
   "id": "721cc0dd",
   "metadata": {},
   "outputs": [],
   "source": [
    "# xgbr = XGBR(\n",
    "#     objective='reg:squarederror',  # Puedes usar 'reg:squaredlogerror' para regresión logarítmica\n",
    "#     max_depth=5,\n",
    "#     learning_rate=0.1,\n",
    "#     n_estimators=200\n",
    "# )\n",
    "\n",
    "# xgbr.fit(X_train, y_train)"
   ]
  },
  {
   "cell_type": "code",
   "execution_count": null,
   "id": "21a0b1f9",
   "metadata": {},
   "outputs": [],
   "source": [
    "# mlp = MLPRegressor(activation= 'tanh', alpha= 0.0001, hidden_layer_sizes= (50,))\n",
    "\n",
    "# mlp.fit(X_train, y_train)"
   ]
  },
  {
   "cell_type": "code",
   "execution_count": null,
   "id": "e4f6ef8b",
   "metadata": {},
   "outputs": [],
   "source": [
    "# gbr = GBR(learning_rate= 0.1, max_depth= 5, n_estimators= 150)    # inicia el modelo\n",
    "\n",
    "\n",
    "# gbr.fit(X_train, y_train)   # entrena el modelo"
   ]
  },
  {
   "cell_type": "code",
   "execution_count": null,
   "id": "a3bd1c5d",
   "metadata": {},
   "outputs": [],
   "source": [
    "# y_pred1 = rfr.predict(X_test)\n",
    "# y_pred2 = xgbr.predict(X_test)\n",
    "# y_pred3 = mlp.predict(X_test)\n",
    "# y_pred4 = gbr.predict(X_test)\n",
    "y_pred5 = cbr.predict(X_test)\n",
    "y_pred6 = lgbmr.predict(X_test)"
   ]
  },
  {
   "cell_type": "code",
   "execution_count": null,
   "id": "72fcaec3",
   "metadata": {},
   "outputs": [],
   "source": [
    "entrega3 = pd.read_csv(\"../data/muestra.csv\")"
   ]
  },
  {
   "cell_type": "code",
   "execution_count": null,
   "id": "473b66d5",
   "metadata": {},
   "outputs": [],
   "source": [
    "entrega3[\"log_price\"] = y_pred6\n",
    "# entrega3[\"lgbmr\"] = y_pred6\n",
    "# entrega3[\"mlp\"] = y_pred3\n",
    "# entrega3[\"gbr\"] = y_pred4\n",
    "# entrega3[\"log_price\"] = entrega3[\"rfr\"]*0.53693824   + entrega3[\"xgbr\"]*0.27082146   + entrega3[\"mlp\"]*0.10404518   +entrega3[\"gbr\"]*0.08871402"
   ]
  },
  {
   "cell_type": "code",
   "execution_count": null,
   "id": "6bc71285",
   "metadata": {},
   "outputs": [],
   "source": [
    "entrega3.head(10)"
   ]
  },
  {
   "cell_type": "code",
   "execution_count": null,
   "id": "8c91f10b",
   "metadata": {},
   "outputs": [],
   "source": [
    "# entrega3 = entrega3[[\"id\",\"log_price\"]]"
   ]
  },
  {
   "cell_type": "code",
   "execution_count": null,
   "id": "a045c12b",
   "metadata": {
    "scrolled": true
   },
   "outputs": [],
   "source": [
    "# entrega3.head(10)"
   ]
  },
  {
   "cell_type": "code",
   "execution_count": null,
   "id": "1dc1b667",
   "metadata": {},
   "outputs": [],
   "source": [
    "# entrega2[\"log_price\"] = y_pred"
   ]
  },
  {
   "cell_type": "code",
   "execution_count": null,
   "id": "9df3259f",
   "metadata": {},
   "outputs": [],
   "source": [
    "entrega3.to_csv(\"../data/entrega7.csv\", index=False)"
   ]
  },
  {
   "cell_type": "code",
   "execution_count": null,
   "id": "1364b5c2",
   "metadata": {},
   "outputs": [],
   "source": [
    "# bnb3.Neighbourhood_cluster.value_counts()"
   ]
  }
 ],
 "metadata": {
  "kernelspec": {
   "display_name": "Python 3 (ipykernel)",
   "language": "python",
   "name": "python3"
  },
  "language_info": {
   "codemirror_mode": {
    "name": "ipython",
    "version": 3
   },
   "file_extension": ".py",
   "mimetype": "text/x-python",
   "name": "python",
   "nbconvert_exporter": "python",
   "pygments_lexer": "ipython3",
   "version": "3.11.4"
  }
 },
 "nbformat": 4,
 "nbformat_minor": 5
}
